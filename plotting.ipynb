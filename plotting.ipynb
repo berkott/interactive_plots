{
 "cells": [
  {
   "cell_type": "code",
   "execution_count": 1,
   "metadata": {},
   "outputs": [],
   "source": [
    "import json\n",
    "import os\n",
    "import plotly.graph_objects as go\n",
    "import plotly.express as px\n",
    "import random"
   ]
  },
  {
   "cell_type": "code",
   "execution_count": 16,
   "metadata": {},
   "outputs": [],
   "source": [
    "oracle =  {\n",
    "            \"0.05\": 0.9967548847198486,\n",
    "            \"0.1\": 0.9887967109680176,\n",
    "            \"0.15000000000000002\": 0.9788599610328674,\n",
    "            \"0.2\": 0.9583184719085693,\n",
    "            \"0.25\": 0.9410402178764343,\n",
    "            \"0.3\": 0.9164072871208191,\n",
    "            \"0.35000000000000003\": 0.8928907513618469,\n",
    "            \"0.4\": 0.8591927289962769,\n",
    "            \"0.45\": 0.8322196006774902,\n",
    "            \"0.5\": 0.7987861037254333,\n",
    "            \"0.55\": 0.7673986554145813,\n",
    "            \"0.6000000000000001\": 0.7354162335395813,\n",
    "            \"0.6500000000000001\": 0.7021366953849792,\n",
    "            \"0.7000000000000001\": 0.6695837378501892,\n",
    "            \"0.7500000000000001\": 0.6355189085006714,\n",
    "            \"0.8\": 0.6083240509033203,\n",
    "            \"0.8500000000000001\": 0.5801644325256348,\n",
    "            \"0.9000000000000001\": 0.5539352893829346,\n",
    "            \"0.9500000000000001\": 0.5298078656196594,\n",
    "            \"1.0\": 0.49794554710388184,\n",
    "            \"1.05\": 0.4759785234928131,\n",
    "            \"1.1\": 0.4545353651046753,\n",
    "            \"1.1500000000000001\": 0.43180814385414124,\n",
    "            \"1.2000000000000002\": 0.4098111689090729,\n",
    "            \"1.2500000000000002\": 0.39231643080711365,\n",
    "            \"1.3\": 0.3751576840877533,\n",
    "            \"1.35\": 0.3558324873447418,\n",
    "            \"1.4000000000000001\": 0.3382851183414459,\n",
    "            \"1.4500000000000002\": 0.3223804533481598,\n",
    "            \"1.5000000000000002\": 0.309741348028183,\n",
    "            \"1.55\": 0.29352355003356934,\n",
    "            \"1.6\": 0.28010547161102295,\n",
    "            \"1.6500000000000001\": 0.2673551142215729,\n",
    "            \"1.7000000000000002\": 0.2561047375202179,\n",
    "            \"1.7500000000000002\": 0.245200052857399,\n",
    "            \"1.8\": 0.23519618809223175,\n",
    "            \"1.85\": 0.22459115087985992,\n",
    "            \"1.9000000000000001\": 0.21696214377880096,\n",
    "            \"1.9500000000000002\": 0.20926128327846527\n",
    "        }\n",
    "bayes = {\n",
    "            \"0.05\": 1.5156913995742798,\n",
    "            \"0.1\": 1.072620153427124,\n",
    "            \"0.15000000000000002\": 0.9917163848876953,\n",
    "            \"0.2\": 0.9583183526992798,\n",
    "            \"0.25\": 0.9484015703201294,\n",
    "            \"0.3\": 0.9403893351554871,\n",
    "            \"0.35000000000000003\": 0.9391770958900452,\n",
    "            \"0.4\": 0.930298388004303,\n",
    "            \"0.45\": 0.9353019595146179,\n",
    "            \"0.5\": 0.9177632927894592,\n",
    "            \"0.55\": 0.8835284113883972,\n",
    "            \"0.6000000000000001\": 0.8041284680366516,\n",
    "            \"0.6500000000000001\": 0.7339668273925781,\n",
    "            \"0.7000000000000001\": 0.6813217997550964,\n",
    "            \"0.7500000000000001\": 0.6380499005317688,\n",
    "            \"0.8\": 0.6083240509033203,\n",
    "            \"0.8500000000000001\": 0.5821000933647156,\n",
    "            \"0.9000000000000001\": 0.5613171458244324,\n",
    "            \"0.9500000000000001\": 0.5449724197387695,\n",
    "            \"1.0\": 0.5232571363449097,\n",
    "            \"1.05\": 0.5104559063911438,\n",
    "            \"1.1\": 0.49971041083335876,\n",
    "            \"1.1500000000000001\": 0.49058446288108826,\n",
    "            \"1.2000000000000002\": 0.4780445396900177,\n",
    "            \"1.2500000000000002\": 0.47028014063835144,\n",
    "            \"1.3\": 0.4663653075695038,\n",
    "            \"1.35\": 0.45612573623657227,\n",
    "            \"1.4000000000000001\": 0.44982948899269104,\n",
    "            \"1.4500000000000002\": 0.44437175989151,\n",
    "            \"1.5000000000000002\": 0.44303491711616516,\n",
    "            \"1.55\": 0.4336240887641907,\n",
    "            \"1.6\": 0.429482102394104,\n",
    "            \"1.6500000000000001\": 0.42496049404144287,\n",
    "            \"1.7000000000000002\": 0.42409035563468933,\n",
    "            \"1.7500000000000002\": 0.4192352294921875,\n",
    "            \"1.8\": 0.41741618514060974,\n",
    "            \"1.85\": 0.41522830724716187,\n",
    "            \"1.9000000000000001\": 0.41619637608528137,\n",
    "            \"1.9500000000000002\": 0.40068480372428894\n",
    "        }\n",
    "james_stein = {\n",
    "            \"0.05\": 1.631117820739746,\n",
    "            \"0.1\": 1.2048498392105103,\n",
    "            \"0.15000000000000002\": 1.057133674621582,\n",
    "            \"0.2\": 1.0025091171264648,\n",
    "            \"0.25\": 0.9696232676506042,\n",
    "            \"0.3\": 0.9342513084411621,\n",
    "            \"0.35000000000000003\": 0.9036963582038879,\n",
    "            \"0.4\": 0.8689670562744141,\n",
    "            \"0.45\": 0.8410090208053589,\n",
    "            \"0.5\": 0.8051197528839111,\n",
    "            \"0.55\": 0.7724191546440125,\n",
    "            \"0.6000000000000001\": 0.7390750646591187,\n",
    "            \"0.6500000000000001\": 0.7053065299987793,\n",
    "            \"0.7000000000000001\": 0.6721143126487732,\n",
    "            \"0.7500000000000001\": 0.6375759243965149,\n",
    "            \"0.8\": 0.6101875305175781,\n",
    "            \"0.8500000000000001\": 0.5818333625793457,\n",
    "            \"0.9000000000000001\": 0.5551696419715881,\n",
    "            \"0.9500000000000001\": 0.5309882760047913,\n",
    "            \"1.0\": 0.4985998868942261,\n",
    "            \"1.05\": 0.4769415855407715,\n",
    "            \"1.1\": 0.45526111125946045,\n",
    "            \"1.1500000000000001\": 0.43235674500465393,\n",
    "            \"1.2000000000000002\": 0.4102689325809479,\n",
    "            \"1.2500000000000002\": 0.3928130269050598,\n",
    "            \"1.3\": 0.3755076229572296,\n",
    "            \"1.35\": 0.356486052274704,\n",
    "            \"1.4000000000000001\": 0.3387102782726288,\n",
    "            \"1.4500000000000002\": 0.3227007985115051,\n",
    "            \"1.5000000000000002\": 0.31017524003982544,\n",
    "            \"1.55\": 0.293773889541626,\n",
    "            \"1.6\": 0.2803286612033844,\n",
    "            \"1.6500000000000001\": 0.2675888240337372,\n",
    "            \"1.7000000000000002\": 0.25622984766960144,\n",
    "            \"1.7500000000000002\": 0.2453719526529312,\n",
    "            \"1.8\": 0.23535677790641785,\n",
    "            \"1.85\": 0.22470855712890625,\n",
    "            \"1.9000000000000001\": 0.2170981615781784,\n",
    "            \"1.9500000000000002\": 0.2093377262353897\n",
    "        }  \n",
    "\n",
    "def get_slider(curve_dir, dims, layers, heads, layout_width=1000, layout_height=700):\n",
    "    format_data = lambda data: {\"x\":  [float(key) for key in data.keys()], \"y\": list(data.values())}\n",
    "    curve_file = json.load(open(curve_dir, \"r\"))\n",
    "\n",
    "    frame_data_dicts = []\n",
    "    for model_step in curve_file:\n",
    "        frame_data_dict = {}\n",
    "\n",
    "        frame_data_dict[\"oracle\"] = format_data(oracle)\n",
    "        frame_data_dict[\"james_stein\"] = format_data(james_stein)\n",
    "        frame_data_dict[\"bayes\"] = format_data(bayes)\n",
    "        frame_data_dict[\"learned\"] = format_data(curve_file[model_step])\n",
    "        frame_data_dict[\"train_step\"] = int(model_step)\n",
    "\n",
    "        frame_data_dicts.append(frame_data_dict)\n",
    "\n",
    "    frame_data_dicts = sorted(frame_data_dicts, key=lambda x: x[\"train_step\"])\n",
    "\n",
    "    fig_dict = {\n",
    "        \"data\": [],\n",
    "        \"layout\": {},\n",
    "        \"frames\": []\n",
    "    }\n",
    "\n",
    "    fig_dict[\"layout\"][\"title\"] = {\"text\": f\"Transformer w/ Dimensions {dims}, {layers} Layers, {heads} Heads\"}\n",
    "    fig_dict[\"layout\"][\"xaxis\"] = {\"title\": \"Noise Rate\"}\n",
    "    fig_dict[\"layout\"][\"yaxis\"] = {\"range\": [0, 1.5], \"title\": \"Normalized Risk\"}\n",
    "    fig_dict[\"layout\"][\"width\"] = layout_width\n",
    "    fig_dict[\"layout\"][\"height\"] = layout_height\n",
    "    fig_dict[\"layout\"][\"font\"] = {\"size\": 20}\n",
    "    fig_dict[\"layout\"][\"updatemenus\"] = [\n",
    "        {\n",
    "            \"buttons\": [\n",
    "                {\n",
    "                    \"args\": [None, {\"frame\": {\"duration\": 50, \"redraw\": False},\n",
    "                                    \"fromcurrent\": True, \"transition\": {\"duration\": 50,\n",
    "                                                                        \"easing\": \"quadratic-in-out\"}}],\n",
    "                    \"label\": \"Play\",\n",
    "                    \"method\": \"animate\"\n",
    "                },\n",
    "                {\n",
    "                    \"args\": [[None], {\"frame\": {\"duration\": 0, \"redraw\": False},\n",
    "                                    \"mode\": \"immediate\",\n",
    "                                    \"transition\": {\"duration\": 0}}],\n",
    "                    \"label\": \"Pause\",\n",
    "                    \"method\": \"animate\"\n",
    "                }\n",
    "            ],\n",
    "            \"direction\": \"left\",\n",
    "            \"pad\": {\"r\": 10, \"t\": 87},\n",
    "            \"showactive\": False,\n",
    "            \"type\": \"buttons\",\n",
    "            \"x\": 0.1,\n",
    "            \"xanchor\": \"right\",\n",
    "            \"y\": 0,\n",
    "            \"yanchor\": \"top\"\n",
    "        }\n",
    "    ]\n",
    "\n",
    "    sliders_dict = {\n",
    "        \"active\": 0,\n",
    "        \"yanchor\": \"top\",\n",
    "        \"xanchor\": \"left\",\n",
    "        \"currentvalue\": {\n",
    "            \"font\": {\"size\": 20},\n",
    "            \"prefix\": \"Epochs:\",\n",
    "            \"visible\": True,\n",
    "            \"xanchor\": \"right\"\n",
    "        },\n",
    "        \"transition\": {\"duration\": 200, \"easing\": \"cubic-in-out\"},\n",
    "        \"pad\": {\"b\": 10, \"t\": 50},\n",
    "        \"len\": 0.9,\n",
    "        \"x\": 0.1,\n",
    "        \"y\": 0,\n",
    "        \"steps\": []\n",
    "    }\n",
    "\n",
    "    fig_dict[\"data\"] = [\n",
    "        {\n",
    "            \"x\": frame_data_dicts[0][\"oracle\"][\"x\"],\n",
    "            \"y\": frame_data_dicts[0][\"oracle\"][\"y\"],\n",
    "            \"name\": \"Oracle\",\n",
    "            \"mode\": \"lines\"\n",
    "        },\n",
    "        {\n",
    "            \"x\": frame_data_dicts[0][\"james_stein\"][\"x\"],\n",
    "            \"y\": frame_data_dicts[0][\"james_stein\"][\"y\"],\n",
    "            \"name\": \"James Stein\",\n",
    "            \"mode\": \"lines\"\n",
    "        },\n",
    "        {\n",
    "            \"x\": frame_data_dicts[0][\"bayes\"][\"x\"],\n",
    "            \"y\": frame_data_dicts[0][\"bayes\"][\"y\"],\n",
    "            \"name\": \"Bayes\",\n",
    "            \"mode\": \"lines\"\n",
    "        },\n",
    "        {\n",
    "            \"x\": frame_data_dicts[0][\"learned\"][\"x\"],\n",
    "            \"y\": frame_data_dicts[0][\"learned\"][\"y\"],\n",
    "            \"name\": \"Learned\",\n",
    "            \"mode\": \"lines\"\n",
    "        },\n",
    "    ]\n",
    "\n",
    "\n",
    "    fig_dict[\"frames\"] = [\n",
    "        {\n",
    "            \"name\": frame_data_dict[\"train_step\"], \n",
    "            \"data\": [\n",
    "            {\n",
    "                \"x\": frame_data_dict[\"oracle\"][\"x\"],\n",
    "                \"y\": frame_data_dict[\"oracle\"][\"y\"],\n",
    "                \"name\": \"Oracle\",\n",
    "                \"mode\": \"lines\"\n",
    "            },\n",
    "            {\n",
    "                \"x\": frame_data_dict[\"james_stein\"][\"x\"],\n",
    "                \"y\": frame_data_dict[\"james_stein\"][\"y\"],\n",
    "                \"name\": \"James Stein\",\n",
    "                \"mode\": \"lines\"\n",
    "            },\n",
    "            {\n",
    "                \"x\": frame_data_dict[\"bayes\"][\"x\"],\n",
    "                \"y\": frame_data_dict[\"bayes\"][\"y\"],\n",
    "                \"name\": \"Bayes\",\n",
    "                \"mode\": \"lines\"\n",
    "            },\n",
    "            {\n",
    "                \"x\": frame_data_dict[\"learned\"][\"x\"],\n",
    "                \"y\": frame_data_dict[\"learned\"][\"y\"],\n",
    "                \"name\": \"Learned\",\n",
    "                \"mode\": \"lines\"\n",
    "            },\n",
    "        ]} for frame_data_dict in frame_data_dicts\n",
    "    ]\n",
    "\n",
    "    sliders_dict[\"steps\"] = [\n",
    "        {\"args\": [\n",
    "            [frame_data_dict[\"train_step\"]],\n",
    "            {\"frame\": {\"duration\": 1000},\n",
    "            \"mode\": \"immediate\",\n",
    "            \"transition\": {\"duration\": 5000},\n",
    "            \"redraw\": False\n",
    "            }\n",
    "        ],\n",
    "        \"label\": frame_data_dict[\"train_step\"],\n",
    "        \"method\": \"animate\"}\n",
    "        for frame_data_dict in frame_data_dicts\n",
    "    ]\n",
    "\n",
    "    fig_dict[\"layout\"][\"sliders\"] = [sliders_dict]\n",
    "\n",
    "    fig = go.Figure(fig_dict)\n",
    "    \n",
    "    return fig"
   ]
  },
  {
   "cell_type": "code",
   "execution_count": 360,
   "metadata": {},
   "outputs": [],
   "source": [
    "def plot_final_curve(curve_dirs, names, width=600, height=425, scale=1, plot_oracle=True):\n",
    "\n",
    "    color_pad = [\"darkgrey\", \"darkturquoise\"]\n",
    "    \n",
    "    fig = go.Figure()\n",
    "    fig.add_trace(go.Scatter(x=[round(float(i), 2) for i in list(bayes.keys())], y=list(bayes.values()), name=\"Bayes\", line_shape='spline', mode=\"markers+lines\", \n",
    "                             marker={'symbol': 'circle', 'color': \"rgba(255,0,0,0.0)\", 'size': 10 * scale, 'line':{'width': 1.5 * scale, 'color': '#FD3216'}}, line={'color': '#FD3216', 'width': 1.5 * scale}\n",
    "                             ))\n",
    "    fig.add_trace(go.Scatter(x=[round(float(i), 2) for i in list(james_stein.keys())], y=list(james_stein.values()), name=\"James-Stein\", line_shape='spline', mode=\"markers+lines\",\n",
    "                             marker={'symbol': 'circle', 'color': \"rgba(0,255,0,0.0)\", 'size': 10 * scale, 'line':{'width': 1.5 * scale, 'color': '#479B55'}}, line={'color': '#479B55', 'width': 1.5 * scale}\n",
    "                             ))\n",
    "    if plot_oracle:\n",
    "        fig.add_trace(go.Scatter(x=[round(float(i), 2) for i in list(oracle.keys())], y=list(oracle.values()), name=\"Oracle\", line_shape='spline', mode=\"markers+lines\",\n",
    "                                 marker={'symbol': 'circle', 'color': \"rgba(0,0,255,0.0)\", 'size': 10 * scale, 'line':{'width': 1.5 * scale, 'color': '#6A76FC'}}, line={'color': '#6A76FC', 'width': 1.5 * scale}\n",
    "                                 ))\n",
    "    used_colors = [\"#FD3216\", \"#6A76FC\", \"#479B55\"]\n",
    "    \n",
    "    for index, curve_dir in enumerate(curve_dirs):\n",
    "        curve_file = json.load(open(curve_dir, \"r\"))\n",
    "        learning_curves = list(curve_file.values())\n",
    "        \n",
    "        marker_color = random.choice(color_pad)\n",
    "        while marker_color in used_colors:\n",
    "            marker_color = random.choice(color_pad)\n",
    "        used_colors.append(marker_color)\n",
    "\n",
    "        fig.add_trace(go.Scatter(x=[round(float(i), 2) for i in list(learning_curves[-1].keys())], y=list(learning_curves[-1].values()), name=names[index], mode=\"lines+markers\",\n",
    "                             marker={'symbol': 'circle', 'color': marker_color, 'size': 4 * scale, 'line':{'width': 1 * scale, 'color': \"black\"}}, line={'color': marker_color, 'width': 2 * scale}\n",
    "                                 ))\n",
    "\n",
    "    fig.update_layout(width=width*scale, \n",
    "                    height=height*scale, \n",
    "                    font=dict(size=20 * scale),\n",
    "                    yaxis_range=[0.15, 1.35],\n",
    "                    xaxis_title=\"Noise Rate\",\n",
    "                    yaxis_title=\"Normalized Risk\",\n",
    "                    margin=dict(l=0, r=10, t=10, b=0),\n",
    "                    legend=dict(x=0.7, y=0.97, bordercolor=\"Black\", borderwidth=1))\n",
    "    \n",
    "    fig.update_layout(\n",
    "        plot_bgcolor='white'\n",
    "    )\n",
    "    fig.update_xaxes(\n",
    "        mirror=True,\n",
    "        ticks='outside',\n",
    "        showline=True,\n",
    "        linecolor='black',\n",
    "        gridcolor='lightgrey'\n",
    "    )\n",
    "    fig.update_yaxes(\n",
    "        mirror=True,\n",
    "        ticks='outside',\n",
    "        showline=True,\n",
    "        linecolor='black',\n",
    "        gridcolor='lightgrey'\n",
    "    )\n",
    "\n",
    "    \n",
    "    return fig\n",
    "\n",
    "def plot_timestep_curve(curve_dirs, names, timesteps, width=600, height=425, scale=1, plot_oracle=True):\n",
    "\n",
    "    color_pad = [\"darkgrey\", \"darkturquoise\", \"#6A76FC\"]\n",
    "    \n",
    "    fig = go.Figure()\n",
    "    fig.add_trace(go.Scatter(x=[round(float(i), 2) for i in list(bayes.keys())], y=list(bayes.values()), name=\"Bayes\", line_shape='spline', mode=\"markers+lines\", \n",
    "                             marker={'symbol': 'circle', 'color': \"rgba(255,0,0,0.0)\", 'size': 10 * scale, 'line':{'width': 1.5 * scale, 'color': '#FD3216'}}, line={'color': '#FD3216', 'width': 1.5 * scale}\n",
    "                             ))\n",
    "    fig.add_trace(go.Scatter(x=[round(float(i), 2) for i in list(james_stein.keys())], y=list(james_stein.values()), name=\"James-Stein\", line_shape='spline', mode=\"markers+lines\",\n",
    "                             marker={'symbol': 'circle', 'color': \"rgba(0,255,0,0.0)\", 'size': 10 * scale, 'line':{'width': 1.5 * scale, 'color': '#479B55'}}, line={'color': '#479B55', 'width': 1.5 * scale}\n",
    "                             ))\n",
    "    if plot_oracle:\n",
    "        fig.add_trace(go.Scatter(x=[round(float(i), 2) for i in list(oracle.keys())], y=list(oracle.values()), name=\"Oracle\", line_shape='spline', mode=\"markers+lines\",\n",
    "                                 marker={'symbol': 'circle', 'color': \"rgba(0,0,255,0.0)\", 'size': 10 * scale, 'line':{'width': 1.5 * scale, 'color': '#6A76FC'}}, line={'color': '#6A76FC', 'width': 1.5 * scale}\n",
    "                                 ))\n",
    "    used_colors = [\"#FD3216\", \"#479B55\"]\n",
    "    if plot_oracle:\n",
    "        used_colors.append(\"#6A76FC\")\n",
    "    \n",
    "    for index, curve_dir in enumerate(curve_dirs):\n",
    "        curve_file = json.load(open(curve_dir, \"r\"))\n",
    "        training_steps = list(curve_file.keys())\n",
    "        learning_curves = list(curve_file.values())\n",
    "        \n",
    "        marker_color = random.choice(color_pad)\n",
    "        while marker_color in used_colors:\n",
    "            marker_color = random.choice(color_pad)\n",
    "        used_colors.append(marker_color)\n",
    "        \n",
    "        fig.add_trace(go.Scatter(x=[round(float(i), 2) for i in list(learning_curves[-1].keys())], y=list(learning_curves[training_steps.index(timesteps[index])].values()), name=names[index], mode=\"lines+markers\",\n",
    "                             marker={'symbol': 'circle', 'color': marker_color, 'size': 4 * scale, 'line':{'width': 1 * scale, 'color': \"black\"}}, line={'color': marker_color, 'width': 2 * scale}\n",
    "                                 ))\n",
    "\n",
    "    fig.update_layout(width=width*scale, \n",
    "                    height=height*scale, \n",
    "                    font=dict(size=20 * scale),\n",
    "                    yaxis_range=[0.15, 1.35],\n",
    "                    xaxis_title=\"Noise Rate\",\n",
    "                    yaxis_title=\"Normalized Risk\",\n",
    "                    margin=dict(l=0, r=10, t=10, b=0),\n",
    "                    legend=dict(x=0.7, y=0.97, bordercolor=\"Black\", borderwidth=1))\n",
    "    \n",
    "    fig.update_layout(\n",
    "        plot_bgcolor='white'\n",
    "    )\n",
    "    fig.update_xaxes(\n",
    "        mirror=True,\n",
    "        ticks='outside',\n",
    "        showline=True,\n",
    "        linecolor='black',\n",
    "        gridcolor='lightgrey'\n",
    "    )\n",
    "    fig.update_yaxes(\n",
    "        mirror=True,\n",
    "        ticks='outside',\n",
    "        showline=True,\n",
    "        linecolor='black',\n",
    "        gridcolor='lightgrey'\n",
    "    )\n",
    "\n",
    "    return fig"
   ]
  },
  {
   "cell_type": "code",
   "execution_count": 17,
   "metadata": {},
   "outputs": [],
   "source": [
    "# Save training graphs\n",
    "from munch import Munch\n",
    "\n",
    "directory = \"../models/variable_noise/250000_steps/\"\n",
    "\n",
    "dims_to_figs = {}\n",
    "\n",
    "for folder in os.listdir(directory):\n",
    "    folder_dir = os.path.join(directory, folder)\n",
    "    if os.path.isdir(folder_dir):\n",
    "        args = Munch.fromYAML(open(os.path.join(folder_dir, \"config.yaml\"), \"r\"))\n",
    "        dims = args.model.n_embd\n",
    "        layers = args.model.n_layer\n",
    "        heads = args.model.n_head\n",
    "\n",
    "        curve_dir = os.path.join(folder_dir, f\"test_curves_bert_padded-sigma=0.2,0.8-mu=0-n_positions=1024-iters=250001-hid_dim={dims}-layer={layers}-head={heads}-tokenizer=default-layer_norm=no_grad-loss=mean-prior=discrete-att_drop=0.0-hid_drop=0.0.json\")\n",
    "\n",
    "        fig = get_slider(curve_dir, dims, layers, heads)\n",
    "\n",
    "        if dims not in dims_to_figs:\n",
    "            dims_to_figs[dims] = [fig]\n",
    "        else:\n",
    "            dims_to_figs[dims].append(fig)\n",
    "\n",
    "for dim in dims_to_figs:\n",
    "    output_file = open(f'training_graphs_dim={dim}.html', 'a')\n",
    "    for dim_fig in dims_to_figs[dim]:\n",
    "        output_file.write(dim_fig.to_html(auto_play=False, full_html=False, include_plotlyjs='cdn'))"
   ]
  },
  {
   "cell_type": "code",
   "execution_count": 318,
   "metadata": {},
   "outputs": [
    {
     "data": {
      "application/vnd.plotly.v1+json": {
       "config": {
        "plotlyServerURL": "https://plot.ly"
       },
       "data": [
        {
         "line": {
          "color": "#FD3216",
          "shape": "spline",
          "width": 1.7999999999999998
         },
         "marker": {
          "color": "rgba(255,0,0,0.0)",
          "line": {
           "color": "#FD3216",
           "width": 1.7999999999999998
          },
          "size": 12,
          "symbol": "circle"
         },
         "mode": "markers+lines",
         "name": "Bayes",
         "type": "scatter",
         "x": [
          0.05,
          0.1,
          0.15,
          0.2,
          0.25,
          0.3,
          0.35,
          0.4,
          0.45,
          0.5,
          0.55,
          0.6,
          0.65,
          0.7,
          0.75,
          0.8,
          0.85,
          0.9,
          0.95,
          1,
          1.05,
          1.1,
          1.15,
          1.2,
          1.25,
          1.3,
          1.35,
          1.4,
          1.45,
          1.5,
          1.55,
          1.6,
          1.65,
          1.7,
          1.75,
          1.8,
          1.85,
          1.9,
          1.95
         ],
         "y": [
          1.5156913995742798,
          1.072620153427124,
          0.9917163848876953,
          0.9583183526992798,
          0.9484015703201294,
          0.9403893351554871,
          0.9391770958900452,
          0.930298388004303,
          0.9353019595146179,
          0.9177632927894592,
          0.8835284113883972,
          0.8041284680366516,
          0.7339668273925781,
          0.6813217997550964,
          0.6380499005317688,
          0.6083240509033203,
          0.5821000933647156,
          0.5613171458244324,
          0.5449724197387695,
          0.5232571363449097,
          0.5104559063911438,
          0.49971041083335876,
          0.49058446288108826,
          0.4780445396900177,
          0.47028014063835144,
          0.4663653075695038,
          0.45612573623657227,
          0.44982948899269104,
          0.44437175989151,
          0.44303491711616516,
          0.4336240887641907,
          0.429482102394104,
          0.42496049404144287,
          0.42409035563468933,
          0.4192352294921875,
          0.41741618514060974,
          0.41522830724716187,
          0.41619637608528137,
          0.40068480372428894
         ]
        },
        {
         "line": {
          "color": "#479B55",
          "shape": "spline",
          "width": 1.7999999999999998
         },
         "marker": {
          "color": "rgba(0,255,0,0.0)",
          "line": {
           "color": "#479B55",
           "width": 1.7999999999999998
          },
          "size": 12,
          "symbol": "circle"
         },
         "mode": "markers+lines",
         "name": "James-Stein",
         "type": "scatter",
         "x": [
          0.05,
          0.1,
          0.15,
          0.2,
          0.25,
          0.3,
          0.35,
          0.4,
          0.45,
          0.5,
          0.55,
          0.6,
          0.65,
          0.7,
          0.75,
          0.8,
          0.85,
          0.9,
          0.95,
          1,
          1.05,
          1.1,
          1.15,
          1.2,
          1.25,
          1.3,
          1.35,
          1.4,
          1.45,
          1.5,
          1.55,
          1.6,
          1.65,
          1.7,
          1.75,
          1.8,
          1.85,
          1.9,
          1.95
         ],
         "y": [
          1.631117820739746,
          1.2048498392105103,
          1.057133674621582,
          1.0025091171264648,
          0.9696232676506042,
          0.9342513084411621,
          0.9036963582038879,
          0.8689670562744141,
          0.8410090208053589,
          0.8051197528839111,
          0.7724191546440125,
          0.7390750646591187,
          0.7053065299987793,
          0.6721143126487732,
          0.6375759243965149,
          0.6101875305175781,
          0.5818333625793457,
          0.5551696419715881,
          0.5309882760047913,
          0.4985998868942261,
          0.4769415855407715,
          0.45526111125946045,
          0.43235674500465393,
          0.4102689325809479,
          0.3928130269050598,
          0.3755076229572296,
          0.356486052274704,
          0.3387102782726288,
          0.3227007985115051,
          0.31017524003982544,
          0.293773889541626,
          0.2803286612033844,
          0.2675888240337372,
          0.25622984766960144,
          0.2453719526529312,
          0.23535677790641785,
          0.22470855712890625,
          0.2170981615781784,
          0.2093377262353897
         ]
        },
        {
         "line": {
          "color": "#6A76FC",
          "shape": "spline",
          "width": 1.7999999999999998
         },
         "marker": {
          "color": "rgba(0,0,255,0.0)",
          "line": {
           "color": "#6A76FC",
           "width": 1.7999999999999998
          },
          "size": 12,
          "symbol": "circle"
         },
         "mode": "markers+lines",
         "name": "Oracle",
         "type": "scatter",
         "x": [
          0.05,
          0.1,
          0.15,
          0.2,
          0.25,
          0.3,
          0.35,
          0.4,
          0.45,
          0.5,
          0.55,
          0.6,
          0.65,
          0.7,
          0.75,
          0.8,
          0.85,
          0.9,
          0.95,
          1,
          1.05,
          1.1,
          1.15,
          1.2,
          1.25,
          1.3,
          1.35,
          1.4,
          1.45,
          1.5,
          1.55,
          1.6,
          1.65,
          1.7,
          1.75,
          1.8,
          1.85,
          1.9,
          1.95
         ],
         "y": [
          0.9967548847198486,
          0.9887967109680176,
          0.9788599610328674,
          0.9583184719085693,
          0.9410402178764343,
          0.9164072871208191,
          0.8928907513618469,
          0.8591927289962769,
          0.8322196006774902,
          0.7987861037254333,
          0.7673986554145813,
          0.7354162335395813,
          0.7021366953849792,
          0.6695837378501892,
          0.6355189085006714,
          0.6083240509033203,
          0.5801644325256348,
          0.5539352893829346,
          0.5298078656196594,
          0.49794554710388184,
          0.4759785234928131,
          0.4545353651046753,
          0.43180814385414124,
          0.4098111689090729,
          0.39231643080711365,
          0.3751576840877533,
          0.3558324873447418,
          0.3382851183414459,
          0.3223804533481598,
          0.309741348028183,
          0.29352355003356934,
          0.28010547161102295,
          0.2673551142215729,
          0.2561047375202179,
          0.245200052857399,
          0.23519618809223175,
          0.22459115087985992,
          0.21696214377880096,
          0.20926128327846527
         ]
        },
        {
         "line": {
          "color": "darkgrey",
          "width": 2.4
         },
         "marker": {
          "color": "darkgrey",
          "line": {
           "color": "black",
           "width": 1.2
          },
          "size": 4.8,
          "symbol": "circle"
         },
         "mode": "lines+markers",
         "name": "8/1/1",
         "type": "scatter",
         "x": [
          0.05,
          0.1,
          0.15,
          0.2,
          0.25,
          0.3,
          0.35,
          0.4,
          0.45,
          0.5,
          0.55,
          0.6,
          0.65,
          0.7,
          0.75,
          0.8,
          0.85,
          0.9,
          0.95,
          1,
          1.05,
          1.1,
          1.15,
          1.2,
          1.25,
          1.3,
          1.35,
          1.4,
          1.45,
          1.5,
          1.55,
          1.6,
          1.65,
          1.7,
          1.75,
          1.8,
          1.85,
          1.9,
          1.95
         ],
         "y": [
          2.0479838848114014,
          1.2259563207626343,
          1.0971101522445679,
          1.0189892053604126,
          0.9731220602989197,
          0.9406284689903259,
          0.908240020275116,
          0.8758361339569092,
          0.8452656269073486,
          0.8076984882354736,
          0.7742493152618408,
          0.7448810935020447,
          0.7075188755989075,
          0.6869444847106934,
          0.6474032402038574,
          0.6101505160331726,
          0.5826086401939392,
          0.5595545172691345,
          0.5262775421142578,
          0.5017256736755371,
          0.47837841510772705,
          0.4547995626926422,
          0.43829822540283203,
          0.41631919145584106,
          0.4003429710865021,
          0.3855085074901581,
          0.36536434292793274,
          0.3541785180568695,
          0.34312090277671814,
          0.33183208107948303,
          0.3219047486782074,
          0.3171466886997223,
          0.3077249228954315,
          0.3039528727531433,
          0.2968635559082031,
          0.29347237944602966,
          0.29047897458076477,
          0.287452757358551,
          0.288391649723053
         ]
        },
        {
         "line": {
          "color": "darkturquoise",
          "width": 2.4
         },
         "marker": {
          "color": "darkturquoise",
          "line": {
           "color": "black",
           "width": 1.2
          },
          "size": 4.8,
          "symbol": "circle"
         },
         "mode": "lines+markers",
         "name": "128/1/1",
         "type": "scatter",
         "x": [
          0.05,
          0.1,
          0.15,
          0.2,
          0.25,
          0.3,
          0.35,
          0.4,
          0.45,
          0.5,
          0.55,
          0.6,
          0.65,
          0.7,
          0.75,
          0.8,
          0.85,
          0.9,
          0.95,
          1,
          1.05,
          1.1,
          1.15,
          1.2,
          1.25,
          1.3,
          1.35,
          1.4,
          1.45,
          1.5,
          1.55,
          1.6,
          1.65,
          1.7,
          1.75,
          1.8,
          1.85,
          1.9,
          1.95
         ],
         "y": [
          1.980721116065979,
          1.225955843925476,
          1.1025720834732056,
          1.0193599462509155,
          0.9897350072860718,
          0.9525213241577148,
          0.9152013659477234,
          0.8820579051971436,
          0.8510338068008423,
          0.8170499801635742,
          0.7920106053352356,
          0.744181215763092,
          0.7147435545921326,
          0.6826840043067932,
          0.6475191116333008,
          0.6188943386077881,
          0.588739275932312,
          0.5561819672584534,
          0.5314410328865051,
          0.505579948425293,
          0.4795393943786621,
          0.45638808608055115,
          0.43556225299835205,
          0.41138219833374023,
          0.38955140113830566,
          0.3725060224533081,
          0.3559914827346802,
          0.3389896750450134,
          0.32594311237335205,
          0.3115636110305786,
          0.29614681005477905,
          0.28448212146759033,
          0.27260059118270874,
          0.25967031717300415,
          0.2543821930885315,
          0.24423174560070038,
          0.23508743941783905,
          0.22544270753860474,
          0.2199741154909134
         ]
        }
       ],
       "layout": {
        "font": {
         "size": 24
        },
        "height": 510,
        "legend": {
         "bordercolor": "Black",
         "borderwidth": 1,
         "x": 0.7,
         "y": 0.97
        },
        "margin": {
         "b": 0,
         "l": 0,
         "r": 10,
         "t": 10
        },
        "plot_bgcolor": "white",
        "template": {
         "data": {
          "bar": [
           {
            "error_x": {
             "color": "#2a3f5f"
            },
            "error_y": {
             "color": "#2a3f5f"
            },
            "marker": {
             "line": {
              "color": "#E5ECF6",
              "width": 0.5
             },
             "pattern": {
              "fillmode": "overlay",
              "size": 10,
              "solidity": 0.2
             }
            },
            "type": "bar"
           }
          ],
          "barpolar": [
           {
            "marker": {
             "line": {
              "color": "#E5ECF6",
              "width": 0.5
             },
             "pattern": {
              "fillmode": "overlay",
              "size": 10,
              "solidity": 0.2
             }
            },
            "type": "barpolar"
           }
          ],
          "carpet": [
           {
            "aaxis": {
             "endlinecolor": "#2a3f5f",
             "gridcolor": "white",
             "linecolor": "white",
             "minorgridcolor": "white",
             "startlinecolor": "#2a3f5f"
            },
            "baxis": {
             "endlinecolor": "#2a3f5f",
             "gridcolor": "white",
             "linecolor": "white",
             "minorgridcolor": "white",
             "startlinecolor": "#2a3f5f"
            },
            "type": "carpet"
           }
          ],
          "choropleth": [
           {
            "colorbar": {
             "outlinewidth": 0,
             "ticks": ""
            },
            "type": "choropleth"
           }
          ],
          "contour": [
           {
            "colorbar": {
             "outlinewidth": 0,
             "ticks": ""
            },
            "colorscale": [
             [
              0,
              "#0d0887"
             ],
             [
              0.1111111111111111,
              "#46039f"
             ],
             [
              0.2222222222222222,
              "#7201a8"
             ],
             [
              0.3333333333333333,
              "#9c179e"
             ],
             [
              0.4444444444444444,
              "#bd3786"
             ],
             [
              0.5555555555555556,
              "#d8576b"
             ],
             [
              0.6666666666666666,
              "#ed7953"
             ],
             [
              0.7777777777777778,
              "#fb9f3a"
             ],
             [
              0.8888888888888888,
              "#fdca26"
             ],
             [
              1,
              "#f0f921"
             ]
            ],
            "type": "contour"
           }
          ],
          "contourcarpet": [
           {
            "colorbar": {
             "outlinewidth": 0,
             "ticks": ""
            },
            "type": "contourcarpet"
           }
          ],
          "heatmap": [
           {
            "colorbar": {
             "outlinewidth": 0,
             "ticks": ""
            },
            "colorscale": [
             [
              0,
              "#0d0887"
             ],
             [
              0.1111111111111111,
              "#46039f"
             ],
             [
              0.2222222222222222,
              "#7201a8"
             ],
             [
              0.3333333333333333,
              "#9c179e"
             ],
             [
              0.4444444444444444,
              "#bd3786"
             ],
             [
              0.5555555555555556,
              "#d8576b"
             ],
             [
              0.6666666666666666,
              "#ed7953"
             ],
             [
              0.7777777777777778,
              "#fb9f3a"
             ],
             [
              0.8888888888888888,
              "#fdca26"
             ],
             [
              1,
              "#f0f921"
             ]
            ],
            "type": "heatmap"
           }
          ],
          "heatmapgl": [
           {
            "colorbar": {
             "outlinewidth": 0,
             "ticks": ""
            },
            "colorscale": [
             [
              0,
              "#0d0887"
             ],
             [
              0.1111111111111111,
              "#46039f"
             ],
             [
              0.2222222222222222,
              "#7201a8"
             ],
             [
              0.3333333333333333,
              "#9c179e"
             ],
             [
              0.4444444444444444,
              "#bd3786"
             ],
             [
              0.5555555555555556,
              "#d8576b"
             ],
             [
              0.6666666666666666,
              "#ed7953"
             ],
             [
              0.7777777777777778,
              "#fb9f3a"
             ],
             [
              0.8888888888888888,
              "#fdca26"
             ],
             [
              1,
              "#f0f921"
             ]
            ],
            "type": "heatmapgl"
           }
          ],
          "histogram": [
           {
            "marker": {
             "pattern": {
              "fillmode": "overlay",
              "size": 10,
              "solidity": 0.2
             }
            },
            "type": "histogram"
           }
          ],
          "histogram2d": [
           {
            "colorbar": {
             "outlinewidth": 0,
             "ticks": ""
            },
            "colorscale": [
             [
              0,
              "#0d0887"
             ],
             [
              0.1111111111111111,
              "#46039f"
             ],
             [
              0.2222222222222222,
              "#7201a8"
             ],
             [
              0.3333333333333333,
              "#9c179e"
             ],
             [
              0.4444444444444444,
              "#bd3786"
             ],
             [
              0.5555555555555556,
              "#d8576b"
             ],
             [
              0.6666666666666666,
              "#ed7953"
             ],
             [
              0.7777777777777778,
              "#fb9f3a"
             ],
             [
              0.8888888888888888,
              "#fdca26"
             ],
             [
              1,
              "#f0f921"
             ]
            ],
            "type": "histogram2d"
           }
          ],
          "histogram2dcontour": [
           {
            "colorbar": {
             "outlinewidth": 0,
             "ticks": ""
            },
            "colorscale": [
             [
              0,
              "#0d0887"
             ],
             [
              0.1111111111111111,
              "#46039f"
             ],
             [
              0.2222222222222222,
              "#7201a8"
             ],
             [
              0.3333333333333333,
              "#9c179e"
             ],
             [
              0.4444444444444444,
              "#bd3786"
             ],
             [
              0.5555555555555556,
              "#d8576b"
             ],
             [
              0.6666666666666666,
              "#ed7953"
             ],
             [
              0.7777777777777778,
              "#fb9f3a"
             ],
             [
              0.8888888888888888,
              "#fdca26"
             ],
             [
              1,
              "#f0f921"
             ]
            ],
            "type": "histogram2dcontour"
           }
          ],
          "mesh3d": [
           {
            "colorbar": {
             "outlinewidth": 0,
             "ticks": ""
            },
            "type": "mesh3d"
           }
          ],
          "parcoords": [
           {
            "line": {
             "colorbar": {
              "outlinewidth": 0,
              "ticks": ""
             }
            },
            "type": "parcoords"
           }
          ],
          "pie": [
           {
            "automargin": true,
            "type": "pie"
           }
          ],
          "scatter": [
           {
            "fillpattern": {
             "fillmode": "overlay",
             "size": 10,
             "solidity": 0.2
            },
            "type": "scatter"
           }
          ],
          "scatter3d": [
           {
            "line": {
             "colorbar": {
              "outlinewidth": 0,
              "ticks": ""
             }
            },
            "marker": {
             "colorbar": {
              "outlinewidth": 0,
              "ticks": ""
             }
            },
            "type": "scatter3d"
           }
          ],
          "scattercarpet": [
           {
            "marker": {
             "colorbar": {
              "outlinewidth": 0,
              "ticks": ""
             }
            },
            "type": "scattercarpet"
           }
          ],
          "scattergeo": [
           {
            "marker": {
             "colorbar": {
              "outlinewidth": 0,
              "ticks": ""
             }
            },
            "type": "scattergeo"
           }
          ],
          "scattergl": [
           {
            "marker": {
             "colorbar": {
              "outlinewidth": 0,
              "ticks": ""
             }
            },
            "type": "scattergl"
           }
          ],
          "scattermapbox": [
           {
            "marker": {
             "colorbar": {
              "outlinewidth": 0,
              "ticks": ""
             }
            },
            "type": "scattermapbox"
           }
          ],
          "scatterpolar": [
           {
            "marker": {
             "colorbar": {
              "outlinewidth": 0,
              "ticks": ""
             }
            },
            "type": "scatterpolar"
           }
          ],
          "scatterpolargl": [
           {
            "marker": {
             "colorbar": {
              "outlinewidth": 0,
              "ticks": ""
             }
            },
            "type": "scatterpolargl"
           }
          ],
          "scatterternary": [
           {
            "marker": {
             "colorbar": {
              "outlinewidth": 0,
              "ticks": ""
             }
            },
            "type": "scatterternary"
           }
          ],
          "surface": [
           {
            "colorbar": {
             "outlinewidth": 0,
             "ticks": ""
            },
            "colorscale": [
             [
              0,
              "#0d0887"
             ],
             [
              0.1111111111111111,
              "#46039f"
             ],
             [
              0.2222222222222222,
              "#7201a8"
             ],
             [
              0.3333333333333333,
              "#9c179e"
             ],
             [
              0.4444444444444444,
              "#bd3786"
             ],
             [
              0.5555555555555556,
              "#d8576b"
             ],
             [
              0.6666666666666666,
              "#ed7953"
             ],
             [
              0.7777777777777778,
              "#fb9f3a"
             ],
             [
              0.8888888888888888,
              "#fdca26"
             ],
             [
              1,
              "#f0f921"
             ]
            ],
            "type": "surface"
           }
          ],
          "table": [
           {
            "cells": {
             "fill": {
              "color": "#EBF0F8"
             },
             "line": {
              "color": "white"
             }
            },
            "header": {
             "fill": {
              "color": "#C8D4E3"
             },
             "line": {
              "color": "white"
             }
            },
            "type": "table"
           }
          ]
         },
         "layout": {
          "annotationdefaults": {
           "arrowcolor": "#2a3f5f",
           "arrowhead": 0,
           "arrowwidth": 1
          },
          "autotypenumbers": "strict",
          "coloraxis": {
           "colorbar": {
            "outlinewidth": 0,
            "ticks": ""
           }
          },
          "colorscale": {
           "diverging": [
            [
             0,
             "#8e0152"
            ],
            [
             0.1,
             "#c51b7d"
            ],
            [
             0.2,
             "#de77ae"
            ],
            [
             0.3,
             "#f1b6da"
            ],
            [
             0.4,
             "#fde0ef"
            ],
            [
             0.5,
             "#f7f7f7"
            ],
            [
             0.6,
             "#e6f5d0"
            ],
            [
             0.7,
             "#b8e186"
            ],
            [
             0.8,
             "#7fbc41"
            ],
            [
             0.9,
             "#4d9221"
            ],
            [
             1,
             "#276419"
            ]
           ],
           "sequential": [
            [
             0,
             "#0d0887"
            ],
            [
             0.1111111111111111,
             "#46039f"
            ],
            [
             0.2222222222222222,
             "#7201a8"
            ],
            [
             0.3333333333333333,
             "#9c179e"
            ],
            [
             0.4444444444444444,
             "#bd3786"
            ],
            [
             0.5555555555555556,
             "#d8576b"
            ],
            [
             0.6666666666666666,
             "#ed7953"
            ],
            [
             0.7777777777777778,
             "#fb9f3a"
            ],
            [
             0.8888888888888888,
             "#fdca26"
            ],
            [
             1,
             "#f0f921"
            ]
           ],
           "sequentialminus": [
            [
             0,
             "#0d0887"
            ],
            [
             0.1111111111111111,
             "#46039f"
            ],
            [
             0.2222222222222222,
             "#7201a8"
            ],
            [
             0.3333333333333333,
             "#9c179e"
            ],
            [
             0.4444444444444444,
             "#bd3786"
            ],
            [
             0.5555555555555556,
             "#d8576b"
            ],
            [
             0.6666666666666666,
             "#ed7953"
            ],
            [
             0.7777777777777778,
             "#fb9f3a"
            ],
            [
             0.8888888888888888,
             "#fdca26"
            ],
            [
             1,
             "#f0f921"
            ]
           ]
          },
          "colorway": [
           "#636efa",
           "#EF553B",
           "#00cc96",
           "#ab63fa",
           "#FFA15A",
           "#19d3f3",
           "#FF6692",
           "#B6E880",
           "#FF97FF",
           "#FECB52"
          ],
          "font": {
           "color": "#2a3f5f"
          },
          "geo": {
           "bgcolor": "white",
           "lakecolor": "white",
           "landcolor": "#E5ECF6",
           "showlakes": true,
           "showland": true,
           "subunitcolor": "white"
          },
          "hoverlabel": {
           "align": "left"
          },
          "hovermode": "closest",
          "mapbox": {
           "style": "light"
          },
          "paper_bgcolor": "white",
          "plot_bgcolor": "#E5ECF6",
          "polar": {
           "angularaxis": {
            "gridcolor": "white",
            "linecolor": "white",
            "ticks": ""
           },
           "bgcolor": "#E5ECF6",
           "radialaxis": {
            "gridcolor": "white",
            "linecolor": "white",
            "ticks": ""
           }
          },
          "scene": {
           "xaxis": {
            "backgroundcolor": "#E5ECF6",
            "gridcolor": "white",
            "gridwidth": 2,
            "linecolor": "white",
            "showbackground": true,
            "ticks": "",
            "zerolinecolor": "white"
           },
           "yaxis": {
            "backgroundcolor": "#E5ECF6",
            "gridcolor": "white",
            "gridwidth": 2,
            "linecolor": "white",
            "showbackground": true,
            "ticks": "",
            "zerolinecolor": "white"
           },
           "zaxis": {
            "backgroundcolor": "#E5ECF6",
            "gridcolor": "white",
            "gridwidth": 2,
            "linecolor": "white",
            "showbackground": true,
            "ticks": "",
            "zerolinecolor": "white"
           }
          },
          "shapedefaults": {
           "line": {
            "color": "#2a3f5f"
           }
          },
          "ternary": {
           "aaxis": {
            "gridcolor": "white",
            "linecolor": "white",
            "ticks": ""
           },
           "baxis": {
            "gridcolor": "white",
            "linecolor": "white",
            "ticks": ""
           },
           "bgcolor": "#E5ECF6",
           "caxis": {
            "gridcolor": "white",
            "linecolor": "white",
            "ticks": ""
           }
          },
          "title": {
           "x": 0.05
          },
          "xaxis": {
           "automargin": true,
           "gridcolor": "white",
           "linecolor": "white",
           "ticks": "",
           "title": {
            "standoff": 15
           },
           "zerolinecolor": "white",
           "zerolinewidth": 2
          },
          "yaxis": {
           "automargin": true,
           "gridcolor": "white",
           "linecolor": "white",
           "ticks": "",
           "title": {
            "standoff": 15
           },
           "zerolinecolor": "white",
           "zerolinewidth": 2
          }
         }
        },
        "width": 720,
        "xaxis": {
         "gridcolor": "lightgrey",
         "linecolor": "black",
         "mirror": true,
         "showline": true,
         "ticks": "outside",
         "title": {
          "text": "Noise Rate"
         }
        },
        "yaxis": {
         "gridcolor": "lightgrey",
         "linecolor": "black",
         "mirror": true,
         "range": [
          0.15,
          1.35
         ],
         "showline": true,
         "ticks": "outside",
         "title": {
          "text": "Normalized Risk"
         }
        }
       }
      }
     },
     "metadata": {},
     "output_type": "display_data"
    }
   ],
   "source": [
    "# For putting into writeup\n",
    "dims = [8, 128]\n",
    "layers = [1, 1]\n",
    "heads = [1, 1]\n",
    "\n",
    "curve_dirs = []\n",
    "names = []\n",
    "for index in range(len(dims)):\n",
    "    curve_dirs.append(f\"../models/variable_noise/250000_steps/bert_padded-sigma=0.2,0.8-mu=0-n_positions=1024-iters=250001-hid_dim={dims[index]}-layer={layers[index]}-head={heads[index]}-tokenizer=default-layer_norm=no_grad-loss=mean-prior=discrete-att_drop=0.0-hid_drop=0.0/test_curves_bert_padded-sigma=0.2,0.8-mu=0-n_positions=1024-iters=250001-hid_dim={dims[index]}-layer={layers[index]}-head={heads[index]}-tokenizer=default-layer_norm=no_grad-loss=mean-prior=discrete-att_drop=0.0-hid_drop=0.0.json\")\n",
    "    names.append(f\"{dims[index]}/{layers[index]}/{heads[index]}\")\n",
    "\n",
    "fig = plot_final_curve(curve_dirs, names, scale=1.2)\n",
    "fig.show()\n",
    "# fig.write_image(\"training_steps_first_result.pdf\")\n",
    "# fig.write_image(\"training_steps_first_result.pdf\")"
   ]
  },
  {
   "cell_type": "code",
   "execution_count": 319,
   "metadata": {},
   "outputs": [],
   "source": [
    "fig.write_image(\"training_steps_first_result.pdf\")\n",
    "fig.write_image(\"training_steps_first_result.pdf\")"
   ]
  },
  {
   "cell_type": "code",
   "execution_count": 362,
   "metadata": {},
   "outputs": [
    {
     "data": {
      "application/vnd.plotly.v1+json": {
       "config": {
        "plotlyServerURL": "https://plot.ly"
       },
       "data": [
        {
         "line": {
          "color": "#FD3216",
          "shape": "spline",
          "width": 1.7999999999999998
         },
         "marker": {
          "color": "rgba(255,0,0,0.0)",
          "line": {
           "color": "#FD3216",
           "width": 1.7999999999999998
          },
          "size": 12,
          "symbol": "circle"
         },
         "mode": "markers+lines",
         "name": "Bayes",
         "type": "scatter",
         "x": [
          0.05,
          0.1,
          0.15,
          0.2,
          0.25,
          0.3,
          0.35,
          0.4,
          0.45,
          0.5,
          0.55,
          0.6,
          0.65,
          0.7,
          0.75,
          0.8,
          0.85,
          0.9,
          0.95,
          1,
          1.05,
          1.1,
          1.15,
          1.2,
          1.25,
          1.3,
          1.35,
          1.4,
          1.45,
          1.5,
          1.55,
          1.6,
          1.65,
          1.7,
          1.75,
          1.8,
          1.85,
          1.9,
          1.95
         ],
         "y": [
          1.5156913995742798,
          1.072620153427124,
          0.9917163848876953,
          0.9583183526992798,
          0.9484015703201294,
          0.9403893351554871,
          0.9391770958900452,
          0.930298388004303,
          0.9353019595146179,
          0.9177632927894592,
          0.8835284113883972,
          0.8041284680366516,
          0.7339668273925781,
          0.6813217997550964,
          0.6380499005317688,
          0.6083240509033203,
          0.5821000933647156,
          0.5613171458244324,
          0.5449724197387695,
          0.5232571363449097,
          0.5104559063911438,
          0.49971041083335876,
          0.49058446288108826,
          0.4780445396900177,
          0.47028014063835144,
          0.4663653075695038,
          0.45612573623657227,
          0.44982948899269104,
          0.44437175989151,
          0.44303491711616516,
          0.4336240887641907,
          0.429482102394104,
          0.42496049404144287,
          0.42409035563468933,
          0.4192352294921875,
          0.41741618514060974,
          0.41522830724716187,
          0.41619637608528137,
          0.40068480372428894
         ]
        },
        {
         "line": {
          "color": "#479B55",
          "shape": "spline",
          "width": 1.7999999999999998
         },
         "marker": {
          "color": "rgba(0,255,0,0.0)",
          "line": {
           "color": "#479B55",
           "width": 1.7999999999999998
          },
          "size": 12,
          "symbol": "circle"
         },
         "mode": "markers+lines",
         "name": "James-Stein",
         "type": "scatter",
         "x": [
          0.05,
          0.1,
          0.15,
          0.2,
          0.25,
          0.3,
          0.35,
          0.4,
          0.45,
          0.5,
          0.55,
          0.6,
          0.65,
          0.7,
          0.75,
          0.8,
          0.85,
          0.9,
          0.95,
          1,
          1.05,
          1.1,
          1.15,
          1.2,
          1.25,
          1.3,
          1.35,
          1.4,
          1.45,
          1.5,
          1.55,
          1.6,
          1.65,
          1.7,
          1.75,
          1.8,
          1.85,
          1.9,
          1.95
         ],
         "y": [
          1.631117820739746,
          1.2048498392105103,
          1.057133674621582,
          1.0025091171264648,
          0.9696232676506042,
          0.9342513084411621,
          0.9036963582038879,
          0.8689670562744141,
          0.8410090208053589,
          0.8051197528839111,
          0.7724191546440125,
          0.7390750646591187,
          0.7053065299987793,
          0.6721143126487732,
          0.6375759243965149,
          0.6101875305175781,
          0.5818333625793457,
          0.5551696419715881,
          0.5309882760047913,
          0.4985998868942261,
          0.4769415855407715,
          0.45526111125946045,
          0.43235674500465393,
          0.4102689325809479,
          0.3928130269050598,
          0.3755076229572296,
          0.356486052274704,
          0.3387102782726288,
          0.3227007985115051,
          0.31017524003982544,
          0.293773889541626,
          0.2803286612033844,
          0.2675888240337372,
          0.25622984766960144,
          0.2453719526529312,
          0.23535677790641785,
          0.22470855712890625,
          0.2170981615781784,
          0.2093377262353897
         ]
        },
        {
         "line": {
          "color": "darkgrey",
          "width": 2.4
         },
         "marker": {
          "color": "darkgrey",
          "line": {
           "color": "black",
           "width": 1.2
          },
          "size": 4.8,
          "symbol": "circle"
         },
         "mode": "lines+markers",
         "name": "16/2/1",
         "type": "scatter",
         "x": [
          0.05,
          0.1,
          0.15,
          0.2,
          0.25,
          0.3,
          0.35,
          0.4,
          0.45,
          0.5,
          0.55,
          0.6,
          0.65,
          0.7,
          0.75,
          0.8,
          0.85,
          0.9,
          0.95,
          1,
          1.05,
          1.1,
          1.15,
          1.2,
          1.25,
          1.3,
          1.35,
          1.4,
          1.45,
          1.5,
          1.55,
          1.6,
          1.65,
          1.7,
          1.75,
          1.8,
          1.85,
          1.9,
          1.95
         ],
         "y": [
          1.5009397268295288,
          1.0591961145401,
          0.9872443079948425,
          0.9610930681228638,
          0.947284460067749,
          0.9447623491287231,
          0.9274948239326477,
          0.932405412197113,
          0.8991345167160034,
          0.8738604187965393,
          0.8337525129318237,
          0.7771182656288147,
          0.7282285094261169,
          0.6798642873764038,
          0.6436439752578735,
          0.6078987717628479,
          0.5882410407066345,
          0.5620751976966858,
          0.5370164513587952,
          0.516981840133667,
          0.5054416656494141,
          0.4910937547683716,
          0.48074668645858765,
          0.471382200717926,
          0.46292540431022644,
          0.4497525990009308,
          0.44339561462402344,
          0.4399162828922272,
          0.4323936402797699,
          0.42871004343032837,
          0.4212460219860077,
          0.4213328957557678,
          0.41089966893196106,
          0.40932220220565796,
          0.40664148330688477,
          0.40471968054771423,
          0.39864611625671387,
          0.39372971653938293,
          0.39148566126823425
         ]
        },
        {
         "line": {
          "color": "darkturquoise",
          "width": 2.4
         },
         "marker": {
          "color": "darkturquoise",
          "line": {
           "color": "black",
           "width": 1.2
          },
          "size": 4.8,
          "symbol": "circle"
         },
         "mode": "lines+markers",
         "name": "64/4/1",
         "type": "scatter",
         "x": [
          0.05,
          0.1,
          0.15,
          0.2,
          0.25,
          0.3,
          0.35,
          0.4,
          0.45,
          0.5,
          0.55,
          0.6,
          0.65,
          0.7,
          0.75,
          0.8,
          0.85,
          0.9,
          0.95,
          1,
          1.05,
          1.1,
          1.15,
          1.2,
          1.25,
          1.3,
          1.35,
          1.4,
          1.45,
          1.5,
          1.55,
          1.6,
          1.65,
          1.7,
          1.75,
          1.8,
          1.85,
          1.9,
          1.95
         ],
         "y": [
          1.4029239416122437,
          1.052252173423767,
          0.9856299757957458,
          0.9651636481285095,
          0.9542178511619568,
          0.9466760754585266,
          0.9429398775100708,
          0.9430738687515259,
          0.945102870464325,
          0.9154401421546936,
          0.8773831725120544,
          0.8103260397911072,
          0.7536870837211609,
          0.6834349632263184,
          0.6409609317779541,
          0.6121821403503418,
          0.5813082456588745,
          0.5649087429046631,
          0.5438113808631897,
          0.5238566398620605,
          0.5082522034645081,
          0.4964308440685272,
          0.4878034293651581,
          0.47874096035957336,
          0.4709390699863434,
          0.4639284610748291,
          0.45266640186309814,
          0.4504353702068329,
          0.4465302526950836,
          0.4407009780406952,
          0.4375508427619934,
          0.4337203800678253,
          0.4282724857330322,
          0.43003159761428833,
          0.4225737154483795,
          0.42114195227622986,
          0.42090561985969543,
          0.41878464818000793,
          0.4173762798309326
         ]
        }
       ],
       "layout": {
        "font": {
         "size": 24
        },
        "height": 510,
        "legend": {
         "bordercolor": "Black",
         "borderwidth": 1,
         "x": 0.7,
         "y": 0.97
        },
        "margin": {
         "b": 0,
         "l": 0,
         "r": 10,
         "t": 10
        },
        "plot_bgcolor": "white",
        "template": {
         "data": {
          "bar": [
           {
            "error_x": {
             "color": "#2a3f5f"
            },
            "error_y": {
             "color": "#2a3f5f"
            },
            "marker": {
             "line": {
              "color": "#E5ECF6",
              "width": 0.5
             },
             "pattern": {
              "fillmode": "overlay",
              "size": 10,
              "solidity": 0.2
             }
            },
            "type": "bar"
           }
          ],
          "barpolar": [
           {
            "marker": {
             "line": {
              "color": "#E5ECF6",
              "width": 0.5
             },
             "pattern": {
              "fillmode": "overlay",
              "size": 10,
              "solidity": 0.2
             }
            },
            "type": "barpolar"
           }
          ],
          "carpet": [
           {
            "aaxis": {
             "endlinecolor": "#2a3f5f",
             "gridcolor": "white",
             "linecolor": "white",
             "minorgridcolor": "white",
             "startlinecolor": "#2a3f5f"
            },
            "baxis": {
             "endlinecolor": "#2a3f5f",
             "gridcolor": "white",
             "linecolor": "white",
             "minorgridcolor": "white",
             "startlinecolor": "#2a3f5f"
            },
            "type": "carpet"
           }
          ],
          "choropleth": [
           {
            "colorbar": {
             "outlinewidth": 0,
             "ticks": ""
            },
            "type": "choropleth"
           }
          ],
          "contour": [
           {
            "colorbar": {
             "outlinewidth": 0,
             "ticks": ""
            },
            "colorscale": [
             [
              0,
              "#0d0887"
             ],
             [
              0.1111111111111111,
              "#46039f"
             ],
             [
              0.2222222222222222,
              "#7201a8"
             ],
             [
              0.3333333333333333,
              "#9c179e"
             ],
             [
              0.4444444444444444,
              "#bd3786"
             ],
             [
              0.5555555555555556,
              "#d8576b"
             ],
             [
              0.6666666666666666,
              "#ed7953"
             ],
             [
              0.7777777777777778,
              "#fb9f3a"
             ],
             [
              0.8888888888888888,
              "#fdca26"
             ],
             [
              1,
              "#f0f921"
             ]
            ],
            "type": "contour"
           }
          ],
          "contourcarpet": [
           {
            "colorbar": {
             "outlinewidth": 0,
             "ticks": ""
            },
            "type": "contourcarpet"
           }
          ],
          "heatmap": [
           {
            "colorbar": {
             "outlinewidth": 0,
             "ticks": ""
            },
            "colorscale": [
             [
              0,
              "#0d0887"
             ],
             [
              0.1111111111111111,
              "#46039f"
             ],
             [
              0.2222222222222222,
              "#7201a8"
             ],
             [
              0.3333333333333333,
              "#9c179e"
             ],
             [
              0.4444444444444444,
              "#bd3786"
             ],
             [
              0.5555555555555556,
              "#d8576b"
             ],
             [
              0.6666666666666666,
              "#ed7953"
             ],
             [
              0.7777777777777778,
              "#fb9f3a"
             ],
             [
              0.8888888888888888,
              "#fdca26"
             ],
             [
              1,
              "#f0f921"
             ]
            ],
            "type": "heatmap"
           }
          ],
          "heatmapgl": [
           {
            "colorbar": {
             "outlinewidth": 0,
             "ticks": ""
            },
            "colorscale": [
             [
              0,
              "#0d0887"
             ],
             [
              0.1111111111111111,
              "#46039f"
             ],
             [
              0.2222222222222222,
              "#7201a8"
             ],
             [
              0.3333333333333333,
              "#9c179e"
             ],
             [
              0.4444444444444444,
              "#bd3786"
             ],
             [
              0.5555555555555556,
              "#d8576b"
             ],
             [
              0.6666666666666666,
              "#ed7953"
             ],
             [
              0.7777777777777778,
              "#fb9f3a"
             ],
             [
              0.8888888888888888,
              "#fdca26"
             ],
             [
              1,
              "#f0f921"
             ]
            ],
            "type": "heatmapgl"
           }
          ],
          "histogram": [
           {
            "marker": {
             "pattern": {
              "fillmode": "overlay",
              "size": 10,
              "solidity": 0.2
             }
            },
            "type": "histogram"
           }
          ],
          "histogram2d": [
           {
            "colorbar": {
             "outlinewidth": 0,
             "ticks": ""
            },
            "colorscale": [
             [
              0,
              "#0d0887"
             ],
             [
              0.1111111111111111,
              "#46039f"
             ],
             [
              0.2222222222222222,
              "#7201a8"
             ],
             [
              0.3333333333333333,
              "#9c179e"
             ],
             [
              0.4444444444444444,
              "#bd3786"
             ],
             [
              0.5555555555555556,
              "#d8576b"
             ],
             [
              0.6666666666666666,
              "#ed7953"
             ],
             [
              0.7777777777777778,
              "#fb9f3a"
             ],
             [
              0.8888888888888888,
              "#fdca26"
             ],
             [
              1,
              "#f0f921"
             ]
            ],
            "type": "histogram2d"
           }
          ],
          "histogram2dcontour": [
           {
            "colorbar": {
             "outlinewidth": 0,
             "ticks": ""
            },
            "colorscale": [
             [
              0,
              "#0d0887"
             ],
             [
              0.1111111111111111,
              "#46039f"
             ],
             [
              0.2222222222222222,
              "#7201a8"
             ],
             [
              0.3333333333333333,
              "#9c179e"
             ],
             [
              0.4444444444444444,
              "#bd3786"
             ],
             [
              0.5555555555555556,
              "#d8576b"
             ],
             [
              0.6666666666666666,
              "#ed7953"
             ],
             [
              0.7777777777777778,
              "#fb9f3a"
             ],
             [
              0.8888888888888888,
              "#fdca26"
             ],
             [
              1,
              "#f0f921"
             ]
            ],
            "type": "histogram2dcontour"
           }
          ],
          "mesh3d": [
           {
            "colorbar": {
             "outlinewidth": 0,
             "ticks": ""
            },
            "type": "mesh3d"
           }
          ],
          "parcoords": [
           {
            "line": {
             "colorbar": {
              "outlinewidth": 0,
              "ticks": ""
             }
            },
            "type": "parcoords"
           }
          ],
          "pie": [
           {
            "automargin": true,
            "type": "pie"
           }
          ],
          "scatter": [
           {
            "fillpattern": {
             "fillmode": "overlay",
             "size": 10,
             "solidity": 0.2
            },
            "type": "scatter"
           }
          ],
          "scatter3d": [
           {
            "line": {
             "colorbar": {
              "outlinewidth": 0,
              "ticks": ""
             }
            },
            "marker": {
             "colorbar": {
              "outlinewidth": 0,
              "ticks": ""
             }
            },
            "type": "scatter3d"
           }
          ],
          "scattercarpet": [
           {
            "marker": {
             "colorbar": {
              "outlinewidth": 0,
              "ticks": ""
             }
            },
            "type": "scattercarpet"
           }
          ],
          "scattergeo": [
           {
            "marker": {
             "colorbar": {
              "outlinewidth": 0,
              "ticks": ""
             }
            },
            "type": "scattergeo"
           }
          ],
          "scattergl": [
           {
            "marker": {
             "colorbar": {
              "outlinewidth": 0,
              "ticks": ""
             }
            },
            "type": "scattergl"
           }
          ],
          "scattermapbox": [
           {
            "marker": {
             "colorbar": {
              "outlinewidth": 0,
              "ticks": ""
             }
            },
            "type": "scattermapbox"
           }
          ],
          "scatterpolar": [
           {
            "marker": {
             "colorbar": {
              "outlinewidth": 0,
              "ticks": ""
             }
            },
            "type": "scatterpolar"
           }
          ],
          "scatterpolargl": [
           {
            "marker": {
             "colorbar": {
              "outlinewidth": 0,
              "ticks": ""
             }
            },
            "type": "scatterpolargl"
           }
          ],
          "scatterternary": [
           {
            "marker": {
             "colorbar": {
              "outlinewidth": 0,
              "ticks": ""
             }
            },
            "type": "scatterternary"
           }
          ],
          "surface": [
           {
            "colorbar": {
             "outlinewidth": 0,
             "ticks": ""
            },
            "colorscale": [
             [
              0,
              "#0d0887"
             ],
             [
              0.1111111111111111,
              "#46039f"
             ],
             [
              0.2222222222222222,
              "#7201a8"
             ],
             [
              0.3333333333333333,
              "#9c179e"
             ],
             [
              0.4444444444444444,
              "#bd3786"
             ],
             [
              0.5555555555555556,
              "#d8576b"
             ],
             [
              0.6666666666666666,
              "#ed7953"
             ],
             [
              0.7777777777777778,
              "#fb9f3a"
             ],
             [
              0.8888888888888888,
              "#fdca26"
             ],
             [
              1,
              "#f0f921"
             ]
            ],
            "type": "surface"
           }
          ],
          "table": [
           {
            "cells": {
             "fill": {
              "color": "#EBF0F8"
             },
             "line": {
              "color": "white"
             }
            },
            "header": {
             "fill": {
              "color": "#C8D4E3"
             },
             "line": {
              "color": "white"
             }
            },
            "type": "table"
           }
          ]
         },
         "layout": {
          "annotationdefaults": {
           "arrowcolor": "#2a3f5f",
           "arrowhead": 0,
           "arrowwidth": 1
          },
          "autotypenumbers": "strict",
          "coloraxis": {
           "colorbar": {
            "outlinewidth": 0,
            "ticks": ""
           }
          },
          "colorscale": {
           "diverging": [
            [
             0,
             "#8e0152"
            ],
            [
             0.1,
             "#c51b7d"
            ],
            [
             0.2,
             "#de77ae"
            ],
            [
             0.3,
             "#f1b6da"
            ],
            [
             0.4,
             "#fde0ef"
            ],
            [
             0.5,
             "#f7f7f7"
            ],
            [
             0.6,
             "#e6f5d0"
            ],
            [
             0.7,
             "#b8e186"
            ],
            [
             0.8,
             "#7fbc41"
            ],
            [
             0.9,
             "#4d9221"
            ],
            [
             1,
             "#276419"
            ]
           ],
           "sequential": [
            [
             0,
             "#0d0887"
            ],
            [
             0.1111111111111111,
             "#46039f"
            ],
            [
             0.2222222222222222,
             "#7201a8"
            ],
            [
             0.3333333333333333,
             "#9c179e"
            ],
            [
             0.4444444444444444,
             "#bd3786"
            ],
            [
             0.5555555555555556,
             "#d8576b"
            ],
            [
             0.6666666666666666,
             "#ed7953"
            ],
            [
             0.7777777777777778,
             "#fb9f3a"
            ],
            [
             0.8888888888888888,
             "#fdca26"
            ],
            [
             1,
             "#f0f921"
            ]
           ],
           "sequentialminus": [
            [
             0,
             "#0d0887"
            ],
            [
             0.1111111111111111,
             "#46039f"
            ],
            [
             0.2222222222222222,
             "#7201a8"
            ],
            [
             0.3333333333333333,
             "#9c179e"
            ],
            [
             0.4444444444444444,
             "#bd3786"
            ],
            [
             0.5555555555555556,
             "#d8576b"
            ],
            [
             0.6666666666666666,
             "#ed7953"
            ],
            [
             0.7777777777777778,
             "#fb9f3a"
            ],
            [
             0.8888888888888888,
             "#fdca26"
            ],
            [
             1,
             "#f0f921"
            ]
           ]
          },
          "colorway": [
           "#636efa",
           "#EF553B",
           "#00cc96",
           "#ab63fa",
           "#FFA15A",
           "#19d3f3",
           "#FF6692",
           "#B6E880",
           "#FF97FF",
           "#FECB52"
          ],
          "font": {
           "color": "#2a3f5f"
          },
          "geo": {
           "bgcolor": "white",
           "lakecolor": "white",
           "landcolor": "#E5ECF6",
           "showlakes": true,
           "showland": true,
           "subunitcolor": "white"
          },
          "hoverlabel": {
           "align": "left"
          },
          "hovermode": "closest",
          "mapbox": {
           "style": "light"
          },
          "paper_bgcolor": "white",
          "plot_bgcolor": "#E5ECF6",
          "polar": {
           "angularaxis": {
            "gridcolor": "white",
            "linecolor": "white",
            "ticks": ""
           },
           "bgcolor": "#E5ECF6",
           "radialaxis": {
            "gridcolor": "white",
            "linecolor": "white",
            "ticks": ""
           }
          },
          "scene": {
           "xaxis": {
            "backgroundcolor": "#E5ECF6",
            "gridcolor": "white",
            "gridwidth": 2,
            "linecolor": "white",
            "showbackground": true,
            "ticks": "",
            "zerolinecolor": "white"
           },
           "yaxis": {
            "backgroundcolor": "#E5ECF6",
            "gridcolor": "white",
            "gridwidth": 2,
            "linecolor": "white",
            "showbackground": true,
            "ticks": "",
            "zerolinecolor": "white"
           },
           "zaxis": {
            "backgroundcolor": "#E5ECF6",
            "gridcolor": "white",
            "gridwidth": 2,
            "linecolor": "white",
            "showbackground": true,
            "ticks": "",
            "zerolinecolor": "white"
           }
          },
          "shapedefaults": {
           "line": {
            "color": "#2a3f5f"
           }
          },
          "ternary": {
           "aaxis": {
            "gridcolor": "white",
            "linecolor": "white",
            "ticks": ""
           },
           "baxis": {
            "gridcolor": "white",
            "linecolor": "white",
            "ticks": ""
           },
           "bgcolor": "#E5ECF6",
           "caxis": {
            "gridcolor": "white",
            "linecolor": "white",
            "ticks": ""
           }
          },
          "title": {
           "x": 0.05
          },
          "xaxis": {
           "automargin": true,
           "gridcolor": "white",
           "linecolor": "white",
           "ticks": "",
           "title": {
            "standoff": 15
           },
           "zerolinecolor": "white",
           "zerolinewidth": 2
          },
          "yaxis": {
           "automargin": true,
           "gridcolor": "white",
           "linecolor": "white",
           "ticks": "",
           "title": {
            "standoff": 15
           },
           "zerolinecolor": "white",
           "zerolinewidth": 2
          }
         }
        },
        "width": 720,
        "xaxis": {
         "gridcolor": "lightgrey",
         "linecolor": "black",
         "mirror": true,
         "showline": true,
         "ticks": "outside",
         "title": {
          "text": "Noise Rate"
         }
        },
        "yaxis": {
         "gridcolor": "lightgrey",
         "linecolor": "black",
         "mirror": true,
         "range": [
          0.15,
          1.35
         ],
         "showline": true,
         "ticks": "outside",
         "title": {
          "text": "Normalized Risk"
         }
        }
       }
      }
     },
     "metadata": {},
     "output_type": "display_data"
    }
   ],
   "source": [
    "# For putting into writeup\n",
    "dims = [16, 64]\n",
    "layers = [2, 4]\n",
    "heads = [1, 1]\n",
    "\n",
    "curve_dirs = []\n",
    "names = []\n",
    "for index in range(len(dims)):\n",
    "    curve_dirs.append(f\"../models/variable_noise/250000_steps/bert_padded-sigma=0.2,0.8-mu=0-n_positions=1024-iters=250001-hid_dim={dims[index]}-layer={layers[index]}-head={heads[index]}-tokenizer=default-layer_norm=no_grad-loss=mean-prior=discrete-att_drop=0.0-hid_drop=0.0/test_curves_bert_padded-sigma=0.2,0.8-mu=0-n_positions=1024-iters=250001-hid_dim={dims[index]}-layer={layers[index]}-head={heads[index]}-tokenizer=default-layer_norm=no_grad-loss=mean-prior=discrete-att_drop=0.0-hid_drop=0.0.json\")\n",
    "    names.append(f\"{dims[index]}/{layers[index]}/{heads[index]}\")\n",
    "\n",
    "fig = plot_final_curve(curve_dirs, names, scale=1.2, plot_oracle=False)\n",
    "fig.show()\n",
    "fig.write_image(\"training_steps_second_result.pdf\")\n",
    "fig.write_image(\"training_steps_second_result.pdf\")"
   ]
  },
  {
   "cell_type": "code",
   "execution_count": 364,
   "metadata": {},
   "outputs": [
    {
     "data": {
      "application/vnd.plotly.v1+json": {
       "config": {
        "plotlyServerURL": "https://plot.ly"
       },
       "data": [
        {
         "line": {
          "color": "#FD3216",
          "shape": "spline",
          "width": 1.7999999999999998
         },
         "marker": {
          "color": "rgba(255,0,0,0.0)",
          "line": {
           "color": "#FD3216",
           "width": 1.7999999999999998
          },
          "size": 12,
          "symbol": "circle"
         },
         "mode": "markers+lines",
         "name": "Bayes",
         "type": "scatter",
         "x": [
          0.05,
          0.1,
          0.15,
          0.2,
          0.25,
          0.3,
          0.35,
          0.4,
          0.45,
          0.5,
          0.55,
          0.6,
          0.65,
          0.7,
          0.75,
          0.8,
          0.85,
          0.9,
          0.95,
          1,
          1.05,
          1.1,
          1.15,
          1.2,
          1.25,
          1.3,
          1.35,
          1.4,
          1.45,
          1.5,
          1.55,
          1.6,
          1.65,
          1.7,
          1.75,
          1.8,
          1.85,
          1.9,
          1.95
         ],
         "y": [
          1.5156913995742798,
          1.072620153427124,
          0.9917163848876953,
          0.9583183526992798,
          0.9484015703201294,
          0.9403893351554871,
          0.9391770958900452,
          0.930298388004303,
          0.9353019595146179,
          0.9177632927894592,
          0.8835284113883972,
          0.8041284680366516,
          0.7339668273925781,
          0.6813217997550964,
          0.6380499005317688,
          0.6083240509033203,
          0.5821000933647156,
          0.5613171458244324,
          0.5449724197387695,
          0.5232571363449097,
          0.5104559063911438,
          0.49971041083335876,
          0.49058446288108826,
          0.4780445396900177,
          0.47028014063835144,
          0.4663653075695038,
          0.45612573623657227,
          0.44982948899269104,
          0.44437175989151,
          0.44303491711616516,
          0.4336240887641907,
          0.429482102394104,
          0.42496049404144287,
          0.42409035563468933,
          0.4192352294921875,
          0.41741618514060974,
          0.41522830724716187,
          0.41619637608528137,
          0.40068480372428894
         ]
        },
        {
         "line": {
          "color": "#479B55",
          "shape": "spline",
          "width": 1.7999999999999998
         },
         "marker": {
          "color": "rgba(0,255,0,0.0)",
          "line": {
           "color": "#479B55",
           "width": 1.7999999999999998
          },
          "size": 12,
          "symbol": "circle"
         },
         "mode": "markers+lines",
         "name": "James-Stein",
         "type": "scatter",
         "x": [
          0.05,
          0.1,
          0.15,
          0.2,
          0.25,
          0.3,
          0.35,
          0.4,
          0.45,
          0.5,
          0.55,
          0.6,
          0.65,
          0.7,
          0.75,
          0.8,
          0.85,
          0.9,
          0.95,
          1,
          1.05,
          1.1,
          1.15,
          1.2,
          1.25,
          1.3,
          1.35,
          1.4,
          1.45,
          1.5,
          1.55,
          1.6,
          1.65,
          1.7,
          1.75,
          1.8,
          1.85,
          1.9,
          1.95
         ],
         "y": [
          1.631117820739746,
          1.2048498392105103,
          1.057133674621582,
          1.0025091171264648,
          0.9696232676506042,
          0.9342513084411621,
          0.9036963582038879,
          0.8689670562744141,
          0.8410090208053589,
          0.8051197528839111,
          0.7724191546440125,
          0.7390750646591187,
          0.7053065299987793,
          0.6721143126487732,
          0.6375759243965149,
          0.6101875305175781,
          0.5818333625793457,
          0.5551696419715881,
          0.5309882760047913,
          0.4985998868942261,
          0.4769415855407715,
          0.45526111125946045,
          0.43235674500465393,
          0.4102689325809479,
          0.3928130269050598,
          0.3755076229572296,
          0.356486052274704,
          0.3387102782726288,
          0.3227007985115051,
          0.31017524003982544,
          0.293773889541626,
          0.2803286612033844,
          0.2675888240337372,
          0.25622984766960144,
          0.2453719526529312,
          0.23535677790641785,
          0.22470855712890625,
          0.2170981615781784,
          0.2093377262353897
         ]
        },
        {
         "line": {
          "color": "#6A76FC",
          "width": 2.4
         },
         "marker": {
          "color": "#6A76FC",
          "line": {
           "color": "black",
           "width": 1.2
          },
          "size": 4.8,
          "symbol": "circle"
         },
         "mode": "lines+markers",
         "name": "16/2/1",
         "type": "scatter",
         "x": [
          0.05,
          0.1,
          0.15,
          0.2,
          0.25,
          0.3,
          0.35,
          0.4,
          0.45,
          0.5,
          0.55,
          0.6,
          0.65,
          0.7,
          0.75,
          0.8,
          0.85,
          0.9,
          0.95,
          1,
          1.05,
          1.1,
          1.15,
          1.2,
          1.25,
          1.3,
          1.35,
          1.4,
          1.45,
          1.5,
          1.55,
          1.6,
          1.65,
          1.7,
          1.75,
          1.8,
          1.85,
          1.9,
          1.95
         ],
         "y": [
          1.7276161909103394,
          1.143970251083374,
          1.050702452659607,
          0.9999706745147705,
          0.9728819131851196,
          0.9339793920516968,
          0.9086719751358032,
          0.8648800849914551,
          0.8366115689277649,
          0.808631420135498,
          0.769763708114624,
          0.7381296157836914,
          0.7072952389717102,
          0.6738192439079285,
          0.6425756216049194,
          0.6137492060661316,
          0.5810571312904358,
          0.5549528002738953,
          0.5253174901008606,
          0.5051882266998291,
          0.4779577851295471,
          0.45432814955711365,
          0.43356597423553467,
          0.4138669967651367,
          0.39273056387901306,
          0.3803482949733734,
          0.3585943877696991,
          0.3444018065929413,
          0.328407883644104,
          0.3135516047477722,
          0.2995595633983612,
          0.29054635763168335,
          0.2773488759994507,
          0.2678964138031006,
          0.26098769903182983,
          0.25393569469451904,
          0.2375676929950714,
          0.23087720572948456,
          0.22672437131404877
         ]
        },
        {
         "line": {
          "color": "darkgrey",
          "width": 2.4
         },
         "marker": {
          "color": "darkgrey",
          "line": {
           "color": "black",
           "width": 1.2
          },
          "size": 4.8,
          "symbol": "circle"
         },
         "mode": "lines+markers",
         "name": "64/4/1",
         "type": "scatter",
         "x": [
          0.05,
          0.1,
          0.15,
          0.2,
          0.25,
          0.3,
          0.35,
          0.4,
          0.45,
          0.5,
          0.55,
          0.6,
          0.65,
          0.7,
          0.75,
          0.8,
          0.85,
          0.9,
          0.95,
          1,
          1.05,
          1.1,
          1.15,
          1.2,
          1.25,
          1.3,
          1.35,
          1.4,
          1.45,
          1.5,
          1.55,
          1.6,
          1.65,
          1.7,
          1.75,
          1.8,
          1.85,
          1.9,
          1.95
         ],
         "y": [
          2.4491071701049805,
          1.208764672279358,
          1.1153957843780518,
          1.0546979904174805,
          0.9824474453926086,
          0.9550889134407043,
          0.905798614025116,
          0.880035936832428,
          0.8435903191566467,
          0.8071977496147156,
          0.7768984436988831,
          0.7395957708358765,
          0.7163113951683044,
          0.6783552765846252,
          0.6461071968078613,
          0.6146519184112549,
          0.581312894821167,
          0.5568301677703857,
          0.5308281779289246,
          0.5035884380340576,
          0.478432834148407,
          0.45779669284820557,
          0.43399402499198914,
          0.4111497402191162,
          0.39519762992858887,
          0.37542033195495605,
          0.3624334931373596,
          0.34606966376304626,
          0.32889631390571594,
          0.3170882761478424,
          0.3008112609386444,
          0.2924821376800537,
          0.28007546067237854,
          0.2702139616012573,
          0.2621520459651947,
          0.2527048587799072,
          0.24075356125831604,
          0.23342278599739075,
          0.22565452754497528
         ]
        }
       ],
       "layout": {
        "font": {
         "size": 24
        },
        "height": 510,
        "legend": {
         "bordercolor": "Black",
         "borderwidth": 1,
         "x": 0.7,
         "y": 0.97
        },
        "margin": {
         "b": 0,
         "l": 0,
         "r": 10,
         "t": 10
        },
        "plot_bgcolor": "white",
        "template": {
         "data": {
          "bar": [
           {
            "error_x": {
             "color": "#2a3f5f"
            },
            "error_y": {
             "color": "#2a3f5f"
            },
            "marker": {
             "line": {
              "color": "#E5ECF6",
              "width": 0.5
             },
             "pattern": {
              "fillmode": "overlay",
              "size": 10,
              "solidity": 0.2
             }
            },
            "type": "bar"
           }
          ],
          "barpolar": [
           {
            "marker": {
             "line": {
              "color": "#E5ECF6",
              "width": 0.5
             },
             "pattern": {
              "fillmode": "overlay",
              "size": 10,
              "solidity": 0.2
             }
            },
            "type": "barpolar"
           }
          ],
          "carpet": [
           {
            "aaxis": {
             "endlinecolor": "#2a3f5f",
             "gridcolor": "white",
             "linecolor": "white",
             "minorgridcolor": "white",
             "startlinecolor": "#2a3f5f"
            },
            "baxis": {
             "endlinecolor": "#2a3f5f",
             "gridcolor": "white",
             "linecolor": "white",
             "minorgridcolor": "white",
             "startlinecolor": "#2a3f5f"
            },
            "type": "carpet"
           }
          ],
          "choropleth": [
           {
            "colorbar": {
             "outlinewidth": 0,
             "ticks": ""
            },
            "type": "choropleth"
           }
          ],
          "contour": [
           {
            "colorbar": {
             "outlinewidth": 0,
             "ticks": ""
            },
            "colorscale": [
             [
              0,
              "#0d0887"
             ],
             [
              0.1111111111111111,
              "#46039f"
             ],
             [
              0.2222222222222222,
              "#7201a8"
             ],
             [
              0.3333333333333333,
              "#9c179e"
             ],
             [
              0.4444444444444444,
              "#bd3786"
             ],
             [
              0.5555555555555556,
              "#d8576b"
             ],
             [
              0.6666666666666666,
              "#ed7953"
             ],
             [
              0.7777777777777778,
              "#fb9f3a"
             ],
             [
              0.8888888888888888,
              "#fdca26"
             ],
             [
              1,
              "#f0f921"
             ]
            ],
            "type": "contour"
           }
          ],
          "contourcarpet": [
           {
            "colorbar": {
             "outlinewidth": 0,
             "ticks": ""
            },
            "type": "contourcarpet"
           }
          ],
          "heatmap": [
           {
            "colorbar": {
             "outlinewidth": 0,
             "ticks": ""
            },
            "colorscale": [
             [
              0,
              "#0d0887"
             ],
             [
              0.1111111111111111,
              "#46039f"
             ],
             [
              0.2222222222222222,
              "#7201a8"
             ],
             [
              0.3333333333333333,
              "#9c179e"
             ],
             [
              0.4444444444444444,
              "#bd3786"
             ],
             [
              0.5555555555555556,
              "#d8576b"
             ],
             [
              0.6666666666666666,
              "#ed7953"
             ],
             [
              0.7777777777777778,
              "#fb9f3a"
             ],
             [
              0.8888888888888888,
              "#fdca26"
             ],
             [
              1,
              "#f0f921"
             ]
            ],
            "type": "heatmap"
           }
          ],
          "heatmapgl": [
           {
            "colorbar": {
             "outlinewidth": 0,
             "ticks": ""
            },
            "colorscale": [
             [
              0,
              "#0d0887"
             ],
             [
              0.1111111111111111,
              "#46039f"
             ],
             [
              0.2222222222222222,
              "#7201a8"
             ],
             [
              0.3333333333333333,
              "#9c179e"
             ],
             [
              0.4444444444444444,
              "#bd3786"
             ],
             [
              0.5555555555555556,
              "#d8576b"
             ],
             [
              0.6666666666666666,
              "#ed7953"
             ],
             [
              0.7777777777777778,
              "#fb9f3a"
             ],
             [
              0.8888888888888888,
              "#fdca26"
             ],
             [
              1,
              "#f0f921"
             ]
            ],
            "type": "heatmapgl"
           }
          ],
          "histogram": [
           {
            "marker": {
             "pattern": {
              "fillmode": "overlay",
              "size": 10,
              "solidity": 0.2
             }
            },
            "type": "histogram"
           }
          ],
          "histogram2d": [
           {
            "colorbar": {
             "outlinewidth": 0,
             "ticks": ""
            },
            "colorscale": [
             [
              0,
              "#0d0887"
             ],
             [
              0.1111111111111111,
              "#46039f"
             ],
             [
              0.2222222222222222,
              "#7201a8"
             ],
             [
              0.3333333333333333,
              "#9c179e"
             ],
             [
              0.4444444444444444,
              "#bd3786"
             ],
             [
              0.5555555555555556,
              "#d8576b"
             ],
             [
              0.6666666666666666,
              "#ed7953"
             ],
             [
              0.7777777777777778,
              "#fb9f3a"
             ],
             [
              0.8888888888888888,
              "#fdca26"
             ],
             [
              1,
              "#f0f921"
             ]
            ],
            "type": "histogram2d"
           }
          ],
          "histogram2dcontour": [
           {
            "colorbar": {
             "outlinewidth": 0,
             "ticks": ""
            },
            "colorscale": [
             [
              0,
              "#0d0887"
             ],
             [
              0.1111111111111111,
              "#46039f"
             ],
             [
              0.2222222222222222,
              "#7201a8"
             ],
             [
              0.3333333333333333,
              "#9c179e"
             ],
             [
              0.4444444444444444,
              "#bd3786"
             ],
             [
              0.5555555555555556,
              "#d8576b"
             ],
             [
              0.6666666666666666,
              "#ed7953"
             ],
             [
              0.7777777777777778,
              "#fb9f3a"
             ],
             [
              0.8888888888888888,
              "#fdca26"
             ],
             [
              1,
              "#f0f921"
             ]
            ],
            "type": "histogram2dcontour"
           }
          ],
          "mesh3d": [
           {
            "colorbar": {
             "outlinewidth": 0,
             "ticks": ""
            },
            "type": "mesh3d"
           }
          ],
          "parcoords": [
           {
            "line": {
             "colorbar": {
              "outlinewidth": 0,
              "ticks": ""
             }
            },
            "type": "parcoords"
           }
          ],
          "pie": [
           {
            "automargin": true,
            "type": "pie"
           }
          ],
          "scatter": [
           {
            "fillpattern": {
             "fillmode": "overlay",
             "size": 10,
             "solidity": 0.2
            },
            "type": "scatter"
           }
          ],
          "scatter3d": [
           {
            "line": {
             "colorbar": {
              "outlinewidth": 0,
              "ticks": ""
             }
            },
            "marker": {
             "colorbar": {
              "outlinewidth": 0,
              "ticks": ""
             }
            },
            "type": "scatter3d"
           }
          ],
          "scattercarpet": [
           {
            "marker": {
             "colorbar": {
              "outlinewidth": 0,
              "ticks": ""
             }
            },
            "type": "scattercarpet"
           }
          ],
          "scattergeo": [
           {
            "marker": {
             "colorbar": {
              "outlinewidth": 0,
              "ticks": ""
             }
            },
            "type": "scattergeo"
           }
          ],
          "scattergl": [
           {
            "marker": {
             "colorbar": {
              "outlinewidth": 0,
              "ticks": ""
             }
            },
            "type": "scattergl"
           }
          ],
          "scattermapbox": [
           {
            "marker": {
             "colorbar": {
              "outlinewidth": 0,
              "ticks": ""
             }
            },
            "type": "scattermapbox"
           }
          ],
          "scatterpolar": [
           {
            "marker": {
             "colorbar": {
              "outlinewidth": 0,
              "ticks": ""
             }
            },
            "type": "scatterpolar"
           }
          ],
          "scatterpolargl": [
           {
            "marker": {
             "colorbar": {
              "outlinewidth": 0,
              "ticks": ""
             }
            },
            "type": "scatterpolargl"
           }
          ],
          "scatterternary": [
           {
            "marker": {
             "colorbar": {
              "outlinewidth": 0,
              "ticks": ""
             }
            },
            "type": "scatterternary"
           }
          ],
          "surface": [
           {
            "colorbar": {
             "outlinewidth": 0,
             "ticks": ""
            },
            "colorscale": [
             [
              0,
              "#0d0887"
             ],
             [
              0.1111111111111111,
              "#46039f"
             ],
             [
              0.2222222222222222,
              "#7201a8"
             ],
             [
              0.3333333333333333,
              "#9c179e"
             ],
             [
              0.4444444444444444,
              "#bd3786"
             ],
             [
              0.5555555555555556,
              "#d8576b"
             ],
             [
              0.6666666666666666,
              "#ed7953"
             ],
             [
              0.7777777777777778,
              "#fb9f3a"
             ],
             [
              0.8888888888888888,
              "#fdca26"
             ],
             [
              1,
              "#f0f921"
             ]
            ],
            "type": "surface"
           }
          ],
          "table": [
           {
            "cells": {
             "fill": {
              "color": "#EBF0F8"
             },
             "line": {
              "color": "white"
             }
            },
            "header": {
             "fill": {
              "color": "#C8D4E3"
             },
             "line": {
              "color": "white"
             }
            },
            "type": "table"
           }
          ]
         },
         "layout": {
          "annotationdefaults": {
           "arrowcolor": "#2a3f5f",
           "arrowhead": 0,
           "arrowwidth": 1
          },
          "autotypenumbers": "strict",
          "coloraxis": {
           "colorbar": {
            "outlinewidth": 0,
            "ticks": ""
           }
          },
          "colorscale": {
           "diverging": [
            [
             0,
             "#8e0152"
            ],
            [
             0.1,
             "#c51b7d"
            ],
            [
             0.2,
             "#de77ae"
            ],
            [
             0.3,
             "#f1b6da"
            ],
            [
             0.4,
             "#fde0ef"
            ],
            [
             0.5,
             "#f7f7f7"
            ],
            [
             0.6,
             "#e6f5d0"
            ],
            [
             0.7,
             "#b8e186"
            ],
            [
             0.8,
             "#7fbc41"
            ],
            [
             0.9,
             "#4d9221"
            ],
            [
             1,
             "#276419"
            ]
           ],
           "sequential": [
            [
             0,
             "#0d0887"
            ],
            [
             0.1111111111111111,
             "#46039f"
            ],
            [
             0.2222222222222222,
             "#7201a8"
            ],
            [
             0.3333333333333333,
             "#9c179e"
            ],
            [
             0.4444444444444444,
             "#bd3786"
            ],
            [
             0.5555555555555556,
             "#d8576b"
            ],
            [
             0.6666666666666666,
             "#ed7953"
            ],
            [
             0.7777777777777778,
             "#fb9f3a"
            ],
            [
             0.8888888888888888,
             "#fdca26"
            ],
            [
             1,
             "#f0f921"
            ]
           ],
           "sequentialminus": [
            [
             0,
             "#0d0887"
            ],
            [
             0.1111111111111111,
             "#46039f"
            ],
            [
             0.2222222222222222,
             "#7201a8"
            ],
            [
             0.3333333333333333,
             "#9c179e"
            ],
            [
             0.4444444444444444,
             "#bd3786"
            ],
            [
             0.5555555555555556,
             "#d8576b"
            ],
            [
             0.6666666666666666,
             "#ed7953"
            ],
            [
             0.7777777777777778,
             "#fb9f3a"
            ],
            [
             0.8888888888888888,
             "#fdca26"
            ],
            [
             1,
             "#f0f921"
            ]
           ]
          },
          "colorway": [
           "#636efa",
           "#EF553B",
           "#00cc96",
           "#ab63fa",
           "#FFA15A",
           "#19d3f3",
           "#FF6692",
           "#B6E880",
           "#FF97FF",
           "#FECB52"
          ],
          "font": {
           "color": "#2a3f5f"
          },
          "geo": {
           "bgcolor": "white",
           "lakecolor": "white",
           "landcolor": "#E5ECF6",
           "showlakes": true,
           "showland": true,
           "subunitcolor": "white"
          },
          "hoverlabel": {
           "align": "left"
          },
          "hovermode": "closest",
          "mapbox": {
           "style": "light"
          },
          "paper_bgcolor": "white",
          "plot_bgcolor": "#E5ECF6",
          "polar": {
           "angularaxis": {
            "gridcolor": "white",
            "linecolor": "white",
            "ticks": ""
           },
           "bgcolor": "#E5ECF6",
           "radialaxis": {
            "gridcolor": "white",
            "linecolor": "white",
            "ticks": ""
           }
          },
          "scene": {
           "xaxis": {
            "backgroundcolor": "#E5ECF6",
            "gridcolor": "white",
            "gridwidth": 2,
            "linecolor": "white",
            "showbackground": true,
            "ticks": "",
            "zerolinecolor": "white"
           },
           "yaxis": {
            "backgroundcolor": "#E5ECF6",
            "gridcolor": "white",
            "gridwidth": 2,
            "linecolor": "white",
            "showbackground": true,
            "ticks": "",
            "zerolinecolor": "white"
           },
           "zaxis": {
            "backgroundcolor": "#E5ECF6",
            "gridcolor": "white",
            "gridwidth": 2,
            "linecolor": "white",
            "showbackground": true,
            "ticks": "",
            "zerolinecolor": "white"
           }
          },
          "shapedefaults": {
           "line": {
            "color": "#2a3f5f"
           }
          },
          "ternary": {
           "aaxis": {
            "gridcolor": "white",
            "linecolor": "white",
            "ticks": ""
           },
           "baxis": {
            "gridcolor": "white",
            "linecolor": "white",
            "ticks": ""
           },
           "bgcolor": "#E5ECF6",
           "caxis": {
            "gridcolor": "white",
            "linecolor": "white",
            "ticks": ""
           }
          },
          "title": {
           "x": 0.05
          },
          "xaxis": {
           "automargin": true,
           "gridcolor": "white",
           "linecolor": "white",
           "ticks": "",
           "title": {
            "standoff": 15
           },
           "zerolinecolor": "white",
           "zerolinewidth": 2
          },
          "yaxis": {
           "automargin": true,
           "gridcolor": "white",
           "linecolor": "white",
           "ticks": "",
           "title": {
            "standoff": 15
           },
           "zerolinecolor": "white",
           "zerolinewidth": 2
          }
         }
        },
        "width": 720,
        "xaxis": {
         "gridcolor": "lightgrey",
         "linecolor": "black",
         "mirror": true,
         "showline": true,
         "ticks": "outside",
         "title": {
          "text": "Noise Rate"
         }
        },
        "yaxis": {
         "gridcolor": "lightgrey",
         "linecolor": "black",
         "mirror": true,
         "range": [
          0.15,
          1.35
         ],
         "showline": true,
         "ticks": "outside",
         "title": {
          "text": "Normalized Risk"
         }
        }
       }
      }
     },
     "metadata": {},
     "output_type": "display_data"
    }
   ],
   "source": [
    "# For putting into writeup\n",
    "dims = [16, 64]\n",
    "layers = [2, 4]\n",
    "heads = [1, 1]\n",
    "\n",
    "timesteps = [\"137500\", \"24500\"]\n",
    "\n",
    "curve_dirs = []\n",
    "names = []\n",
    "for index in range(len(dims)):\n",
    "    curve_dirs.append(f\"../models/variable_noise/250000_steps/bert_padded-sigma=0.2,0.8-mu=0-n_positions=1024-iters=250001-hid_dim={dims[index]}-layer={layers[index]}-head={heads[index]}-tokenizer=default-layer_norm=no_grad-loss=mean-prior=discrete-att_drop=0.0-hid_drop=0.0/test_curves_bert_padded-sigma=0.2,0.8-mu=0-n_positions=1024-iters=250001-hid_dim={dims[index]}-layer={layers[index]}-head={heads[index]}-tokenizer=default-layer_norm=no_grad-loss=mean-prior=discrete-att_drop=0.0-hid_drop=0.0.json\")\n",
    "    names.append(f\"{dims[index]}/{layers[index]}/{heads[index]}\")\n",
    "\n",
    "fig = plot_timestep_curve(curve_dirs, names, timesteps, scale=1.2, plot_oracle=False)\n",
    "fig.show()\n",
    "fig.write_image(\"training_steps_second_result_early.pdf\")\n",
    "fig.write_image(\"training_steps_second_result_early.pdf\")"
   ]
  },
  {
   "cell_type": "code",
   "execution_count": 365,
   "metadata": {},
   "outputs": [
    {
     "data": {
      "application/vnd.plotly.v1+json": {
       "config": {
        "plotlyServerURL": "https://plot.ly"
       },
       "data": [
        {
         "line": {
          "color": "#FD3216",
          "shape": "spline",
          "width": 1.7999999999999998
         },
         "marker": {
          "color": "rgba(255,0,0,0.0)",
          "line": {
           "color": "#FD3216",
           "width": 1.7999999999999998
          },
          "size": 12,
          "symbol": "circle"
         },
         "mode": "markers+lines",
         "name": "Bayes",
         "type": "scatter",
         "x": [
          0.05,
          0.1,
          0.15,
          0.2,
          0.25,
          0.3,
          0.35,
          0.4,
          0.45,
          0.5,
          0.55,
          0.6,
          0.65,
          0.7,
          0.75,
          0.8,
          0.85,
          0.9,
          0.95,
          1,
          1.05,
          1.1,
          1.15,
          1.2,
          1.25,
          1.3,
          1.35,
          1.4,
          1.45,
          1.5,
          1.55,
          1.6,
          1.65,
          1.7,
          1.75,
          1.8,
          1.85,
          1.9,
          1.95
         ],
         "y": [
          1.5156913995742798,
          1.072620153427124,
          0.9917163848876953,
          0.9583183526992798,
          0.9484015703201294,
          0.9403893351554871,
          0.9391770958900452,
          0.930298388004303,
          0.9353019595146179,
          0.9177632927894592,
          0.8835284113883972,
          0.8041284680366516,
          0.7339668273925781,
          0.6813217997550964,
          0.6380499005317688,
          0.6083240509033203,
          0.5821000933647156,
          0.5613171458244324,
          0.5449724197387695,
          0.5232571363449097,
          0.5104559063911438,
          0.49971041083335876,
          0.49058446288108826,
          0.4780445396900177,
          0.47028014063835144,
          0.4663653075695038,
          0.45612573623657227,
          0.44982948899269104,
          0.44437175989151,
          0.44303491711616516,
          0.4336240887641907,
          0.429482102394104,
          0.42496049404144287,
          0.42409035563468933,
          0.4192352294921875,
          0.41741618514060974,
          0.41522830724716187,
          0.41619637608528137,
          0.40068480372428894
         ]
        },
        {
         "line": {
          "color": "#479B55",
          "shape": "spline",
          "width": 1.7999999999999998
         },
         "marker": {
          "color": "rgba(0,255,0,0.0)",
          "line": {
           "color": "#479B55",
           "width": 1.7999999999999998
          },
          "size": 12,
          "symbol": "circle"
         },
         "mode": "markers+lines",
         "name": "James-Stein",
         "type": "scatter",
         "x": [
          0.05,
          0.1,
          0.15,
          0.2,
          0.25,
          0.3,
          0.35,
          0.4,
          0.45,
          0.5,
          0.55,
          0.6,
          0.65,
          0.7,
          0.75,
          0.8,
          0.85,
          0.9,
          0.95,
          1,
          1.05,
          1.1,
          1.15,
          1.2,
          1.25,
          1.3,
          1.35,
          1.4,
          1.45,
          1.5,
          1.55,
          1.6,
          1.65,
          1.7,
          1.75,
          1.8,
          1.85,
          1.9,
          1.95
         ],
         "y": [
          1.631117820739746,
          1.2048498392105103,
          1.057133674621582,
          1.0025091171264648,
          0.9696232676506042,
          0.9342513084411621,
          0.9036963582038879,
          0.8689670562744141,
          0.8410090208053589,
          0.8051197528839111,
          0.7724191546440125,
          0.7390750646591187,
          0.7053065299987793,
          0.6721143126487732,
          0.6375759243965149,
          0.6101875305175781,
          0.5818333625793457,
          0.5551696419715881,
          0.5309882760047913,
          0.4985998868942261,
          0.4769415855407715,
          0.45526111125946045,
          0.43235674500465393,
          0.4102689325809479,
          0.3928130269050598,
          0.3755076229572296,
          0.356486052274704,
          0.3387102782726288,
          0.3227007985115051,
          0.31017524003982544,
          0.293773889541626,
          0.2803286612033844,
          0.2675888240337372,
          0.25622984766960144,
          0.2453719526529312,
          0.23535677790641785,
          0.22470855712890625,
          0.2170981615781784,
          0.2093377262353897
         ]
        },
        {
         "line": {
          "color": "darkgrey",
          "width": 2.4
         },
         "marker": {
          "color": "darkgrey",
          "line": {
           "color": "black",
           "width": 1.2
          },
          "size": 4.8,
          "symbol": "circle"
         },
         "mode": "lines+markers",
         "name": "128/4/1",
         "type": "scatter",
         "x": [
          0.05,
          0.1,
          0.15,
          0.2,
          0.25,
          0.3,
          0.35,
          0.4,
          0.45,
          0.5,
          0.55,
          0.6,
          0.65,
          0.7,
          0.75,
          0.8,
          0.85,
          0.9,
          0.95,
          1,
          1.05,
          1.1,
          1.15,
          1.2,
          1.25,
          1.3,
          1.35,
          1.4,
          1.45,
          1.5,
          1.55,
          1.6,
          1.65,
          1.7,
          1.75,
          1.8,
          1.85,
          1.9,
          1.95
         ],
         "y": [
          1.8835487365722656,
          1.2578938007354736,
          1.0782322883605957,
          1.0285593271255493,
          0.9708607792854309,
          0.9452105164527893,
          0.9083337187767029,
          0.8760219216346741,
          0.8477501273155212,
          0.8163279891014099,
          0.7789229154586792,
          0.744167149066925,
          0.7162519693374634,
          0.6827073097229004,
          0.6513383388519287,
          0.6215294599533081,
          0.5885948538780212,
          0.559486448764801,
          0.5326875448226929,
          0.5067282319068909,
          0.48342007398605347,
          0.45756158232688904,
          0.43692392110824585,
          0.41460949182510376,
          0.3953642249107361,
          0.3740988075733185,
          0.3591620624065399,
          0.34052619338035583,
          0.32751521468162537,
          0.3130520284175873,
          0.29828721284866333,
          0.2881612777709961,
          0.27766579389572144,
          0.268127977848053,
          0.25536513328552246,
          0.2451838105916977,
          0.2395264357328415,
          0.2341427206993103,
          0.22336776554584503
         ]
        },
        {
         "line": {
          "color": "#6A76FC",
          "width": 2.4
         },
         "marker": {
          "color": "#6A76FC",
          "line": {
           "color": "black",
           "width": 1.2
          },
          "size": 4.8,
          "symbol": "circle"
         },
         "mode": "lines+markers",
         "name": "256/4/1",
         "type": "scatter",
         "x": [
          0.05,
          0.1,
          0.15,
          0.2,
          0.25,
          0.3,
          0.35,
          0.4,
          0.45,
          0.5,
          0.55,
          0.6,
          0.65,
          0.7,
          0.75,
          0.8,
          0.85,
          0.9,
          0.95,
          1,
          1.05,
          1.1,
          1.15,
          1.2,
          1.25,
          1.3,
          1.35,
          1.4,
          1.45,
          1.5,
          1.55,
          1.6,
          1.65,
          1.7,
          1.75,
          1.8,
          1.85,
          1.9,
          1.95
         ],
         "y": [
          1.5521379709243774,
          1.2160629034042358,
          1.0880531072616577,
          1.0073747634887695,
          0.9558323621749878,
          0.9343824982643127,
          0.9083208441734314,
          0.8659052848815918,
          0.8383250832557678,
          0.8067426681518555,
          0.7764173150062561,
          0.7385974526405334,
          0.7069051861763,
          0.6799449920654297,
          0.6399571299552917,
          0.6130816340446472,
          0.5799175500869751,
          0.5575134754180908,
          0.5284301042556763,
          0.5010259747505188,
          0.47551658749580383,
          0.45353570580482483,
          0.432510107755661,
          0.411002516746521,
          0.39366647601127625,
          0.374420166015625,
          0.3565840721130371,
          0.3412685990333557,
          0.323945552110672,
          0.3079267740249634,
          0.29742127656936646,
          0.28506144881248474,
          0.2726398706436157,
          0.26189514994621277,
          0.25046002864837646,
          0.2417931854724884,
          0.23304924368858337,
          0.22109770774841309,
          0.21188396215438843
         ]
        }
       ],
       "layout": {
        "font": {
         "size": 24
        },
        "height": 510,
        "legend": {
         "bordercolor": "Black",
         "borderwidth": 1,
         "x": 0.7,
         "y": 0.97
        },
        "margin": {
         "b": 0,
         "l": 0,
         "r": 10,
         "t": 10
        },
        "plot_bgcolor": "white",
        "template": {
         "data": {
          "bar": [
           {
            "error_x": {
             "color": "#2a3f5f"
            },
            "error_y": {
             "color": "#2a3f5f"
            },
            "marker": {
             "line": {
              "color": "#E5ECF6",
              "width": 0.5
             },
             "pattern": {
              "fillmode": "overlay",
              "size": 10,
              "solidity": 0.2
             }
            },
            "type": "bar"
           }
          ],
          "barpolar": [
           {
            "marker": {
             "line": {
              "color": "#E5ECF6",
              "width": 0.5
             },
             "pattern": {
              "fillmode": "overlay",
              "size": 10,
              "solidity": 0.2
             }
            },
            "type": "barpolar"
           }
          ],
          "carpet": [
           {
            "aaxis": {
             "endlinecolor": "#2a3f5f",
             "gridcolor": "white",
             "linecolor": "white",
             "minorgridcolor": "white",
             "startlinecolor": "#2a3f5f"
            },
            "baxis": {
             "endlinecolor": "#2a3f5f",
             "gridcolor": "white",
             "linecolor": "white",
             "minorgridcolor": "white",
             "startlinecolor": "#2a3f5f"
            },
            "type": "carpet"
           }
          ],
          "choropleth": [
           {
            "colorbar": {
             "outlinewidth": 0,
             "ticks": ""
            },
            "type": "choropleth"
           }
          ],
          "contour": [
           {
            "colorbar": {
             "outlinewidth": 0,
             "ticks": ""
            },
            "colorscale": [
             [
              0,
              "#0d0887"
             ],
             [
              0.1111111111111111,
              "#46039f"
             ],
             [
              0.2222222222222222,
              "#7201a8"
             ],
             [
              0.3333333333333333,
              "#9c179e"
             ],
             [
              0.4444444444444444,
              "#bd3786"
             ],
             [
              0.5555555555555556,
              "#d8576b"
             ],
             [
              0.6666666666666666,
              "#ed7953"
             ],
             [
              0.7777777777777778,
              "#fb9f3a"
             ],
             [
              0.8888888888888888,
              "#fdca26"
             ],
             [
              1,
              "#f0f921"
             ]
            ],
            "type": "contour"
           }
          ],
          "contourcarpet": [
           {
            "colorbar": {
             "outlinewidth": 0,
             "ticks": ""
            },
            "type": "contourcarpet"
           }
          ],
          "heatmap": [
           {
            "colorbar": {
             "outlinewidth": 0,
             "ticks": ""
            },
            "colorscale": [
             [
              0,
              "#0d0887"
             ],
             [
              0.1111111111111111,
              "#46039f"
             ],
             [
              0.2222222222222222,
              "#7201a8"
             ],
             [
              0.3333333333333333,
              "#9c179e"
             ],
             [
              0.4444444444444444,
              "#bd3786"
             ],
             [
              0.5555555555555556,
              "#d8576b"
             ],
             [
              0.6666666666666666,
              "#ed7953"
             ],
             [
              0.7777777777777778,
              "#fb9f3a"
             ],
             [
              0.8888888888888888,
              "#fdca26"
             ],
             [
              1,
              "#f0f921"
             ]
            ],
            "type": "heatmap"
           }
          ],
          "heatmapgl": [
           {
            "colorbar": {
             "outlinewidth": 0,
             "ticks": ""
            },
            "colorscale": [
             [
              0,
              "#0d0887"
             ],
             [
              0.1111111111111111,
              "#46039f"
             ],
             [
              0.2222222222222222,
              "#7201a8"
             ],
             [
              0.3333333333333333,
              "#9c179e"
             ],
             [
              0.4444444444444444,
              "#bd3786"
             ],
             [
              0.5555555555555556,
              "#d8576b"
             ],
             [
              0.6666666666666666,
              "#ed7953"
             ],
             [
              0.7777777777777778,
              "#fb9f3a"
             ],
             [
              0.8888888888888888,
              "#fdca26"
             ],
             [
              1,
              "#f0f921"
             ]
            ],
            "type": "heatmapgl"
           }
          ],
          "histogram": [
           {
            "marker": {
             "pattern": {
              "fillmode": "overlay",
              "size": 10,
              "solidity": 0.2
             }
            },
            "type": "histogram"
           }
          ],
          "histogram2d": [
           {
            "colorbar": {
             "outlinewidth": 0,
             "ticks": ""
            },
            "colorscale": [
             [
              0,
              "#0d0887"
             ],
             [
              0.1111111111111111,
              "#46039f"
             ],
             [
              0.2222222222222222,
              "#7201a8"
             ],
             [
              0.3333333333333333,
              "#9c179e"
             ],
             [
              0.4444444444444444,
              "#bd3786"
             ],
             [
              0.5555555555555556,
              "#d8576b"
             ],
             [
              0.6666666666666666,
              "#ed7953"
             ],
             [
              0.7777777777777778,
              "#fb9f3a"
             ],
             [
              0.8888888888888888,
              "#fdca26"
             ],
             [
              1,
              "#f0f921"
             ]
            ],
            "type": "histogram2d"
           }
          ],
          "histogram2dcontour": [
           {
            "colorbar": {
             "outlinewidth": 0,
             "ticks": ""
            },
            "colorscale": [
             [
              0,
              "#0d0887"
             ],
             [
              0.1111111111111111,
              "#46039f"
             ],
             [
              0.2222222222222222,
              "#7201a8"
             ],
             [
              0.3333333333333333,
              "#9c179e"
             ],
             [
              0.4444444444444444,
              "#bd3786"
             ],
             [
              0.5555555555555556,
              "#d8576b"
             ],
             [
              0.6666666666666666,
              "#ed7953"
             ],
             [
              0.7777777777777778,
              "#fb9f3a"
             ],
             [
              0.8888888888888888,
              "#fdca26"
             ],
             [
              1,
              "#f0f921"
             ]
            ],
            "type": "histogram2dcontour"
           }
          ],
          "mesh3d": [
           {
            "colorbar": {
             "outlinewidth": 0,
             "ticks": ""
            },
            "type": "mesh3d"
           }
          ],
          "parcoords": [
           {
            "line": {
             "colorbar": {
              "outlinewidth": 0,
              "ticks": ""
             }
            },
            "type": "parcoords"
           }
          ],
          "pie": [
           {
            "automargin": true,
            "type": "pie"
           }
          ],
          "scatter": [
           {
            "fillpattern": {
             "fillmode": "overlay",
             "size": 10,
             "solidity": 0.2
            },
            "type": "scatter"
           }
          ],
          "scatter3d": [
           {
            "line": {
             "colorbar": {
              "outlinewidth": 0,
              "ticks": ""
             }
            },
            "marker": {
             "colorbar": {
              "outlinewidth": 0,
              "ticks": ""
             }
            },
            "type": "scatter3d"
           }
          ],
          "scattercarpet": [
           {
            "marker": {
             "colorbar": {
              "outlinewidth": 0,
              "ticks": ""
             }
            },
            "type": "scattercarpet"
           }
          ],
          "scattergeo": [
           {
            "marker": {
             "colorbar": {
              "outlinewidth": 0,
              "ticks": ""
             }
            },
            "type": "scattergeo"
           }
          ],
          "scattergl": [
           {
            "marker": {
             "colorbar": {
              "outlinewidth": 0,
              "ticks": ""
             }
            },
            "type": "scattergl"
           }
          ],
          "scattermapbox": [
           {
            "marker": {
             "colorbar": {
              "outlinewidth": 0,
              "ticks": ""
             }
            },
            "type": "scattermapbox"
           }
          ],
          "scatterpolar": [
           {
            "marker": {
             "colorbar": {
              "outlinewidth": 0,
              "ticks": ""
             }
            },
            "type": "scatterpolar"
           }
          ],
          "scatterpolargl": [
           {
            "marker": {
             "colorbar": {
              "outlinewidth": 0,
              "ticks": ""
             }
            },
            "type": "scatterpolargl"
           }
          ],
          "scatterternary": [
           {
            "marker": {
             "colorbar": {
              "outlinewidth": 0,
              "ticks": ""
             }
            },
            "type": "scatterternary"
           }
          ],
          "surface": [
           {
            "colorbar": {
             "outlinewidth": 0,
             "ticks": ""
            },
            "colorscale": [
             [
              0,
              "#0d0887"
             ],
             [
              0.1111111111111111,
              "#46039f"
             ],
             [
              0.2222222222222222,
              "#7201a8"
             ],
             [
              0.3333333333333333,
              "#9c179e"
             ],
             [
              0.4444444444444444,
              "#bd3786"
             ],
             [
              0.5555555555555556,
              "#d8576b"
             ],
             [
              0.6666666666666666,
              "#ed7953"
             ],
             [
              0.7777777777777778,
              "#fb9f3a"
             ],
             [
              0.8888888888888888,
              "#fdca26"
             ],
             [
              1,
              "#f0f921"
             ]
            ],
            "type": "surface"
           }
          ],
          "table": [
           {
            "cells": {
             "fill": {
              "color": "#EBF0F8"
             },
             "line": {
              "color": "white"
             }
            },
            "header": {
             "fill": {
              "color": "#C8D4E3"
             },
             "line": {
              "color": "white"
             }
            },
            "type": "table"
           }
          ]
         },
         "layout": {
          "annotationdefaults": {
           "arrowcolor": "#2a3f5f",
           "arrowhead": 0,
           "arrowwidth": 1
          },
          "autotypenumbers": "strict",
          "coloraxis": {
           "colorbar": {
            "outlinewidth": 0,
            "ticks": ""
           }
          },
          "colorscale": {
           "diverging": [
            [
             0,
             "#8e0152"
            ],
            [
             0.1,
             "#c51b7d"
            ],
            [
             0.2,
             "#de77ae"
            ],
            [
             0.3,
             "#f1b6da"
            ],
            [
             0.4,
             "#fde0ef"
            ],
            [
             0.5,
             "#f7f7f7"
            ],
            [
             0.6,
             "#e6f5d0"
            ],
            [
             0.7,
             "#b8e186"
            ],
            [
             0.8,
             "#7fbc41"
            ],
            [
             0.9,
             "#4d9221"
            ],
            [
             1,
             "#276419"
            ]
           ],
           "sequential": [
            [
             0,
             "#0d0887"
            ],
            [
             0.1111111111111111,
             "#46039f"
            ],
            [
             0.2222222222222222,
             "#7201a8"
            ],
            [
             0.3333333333333333,
             "#9c179e"
            ],
            [
             0.4444444444444444,
             "#bd3786"
            ],
            [
             0.5555555555555556,
             "#d8576b"
            ],
            [
             0.6666666666666666,
             "#ed7953"
            ],
            [
             0.7777777777777778,
             "#fb9f3a"
            ],
            [
             0.8888888888888888,
             "#fdca26"
            ],
            [
             1,
             "#f0f921"
            ]
           ],
           "sequentialminus": [
            [
             0,
             "#0d0887"
            ],
            [
             0.1111111111111111,
             "#46039f"
            ],
            [
             0.2222222222222222,
             "#7201a8"
            ],
            [
             0.3333333333333333,
             "#9c179e"
            ],
            [
             0.4444444444444444,
             "#bd3786"
            ],
            [
             0.5555555555555556,
             "#d8576b"
            ],
            [
             0.6666666666666666,
             "#ed7953"
            ],
            [
             0.7777777777777778,
             "#fb9f3a"
            ],
            [
             0.8888888888888888,
             "#fdca26"
            ],
            [
             1,
             "#f0f921"
            ]
           ]
          },
          "colorway": [
           "#636efa",
           "#EF553B",
           "#00cc96",
           "#ab63fa",
           "#FFA15A",
           "#19d3f3",
           "#FF6692",
           "#B6E880",
           "#FF97FF",
           "#FECB52"
          ],
          "font": {
           "color": "#2a3f5f"
          },
          "geo": {
           "bgcolor": "white",
           "lakecolor": "white",
           "landcolor": "#E5ECF6",
           "showlakes": true,
           "showland": true,
           "subunitcolor": "white"
          },
          "hoverlabel": {
           "align": "left"
          },
          "hovermode": "closest",
          "mapbox": {
           "style": "light"
          },
          "paper_bgcolor": "white",
          "plot_bgcolor": "#E5ECF6",
          "polar": {
           "angularaxis": {
            "gridcolor": "white",
            "linecolor": "white",
            "ticks": ""
           },
           "bgcolor": "#E5ECF6",
           "radialaxis": {
            "gridcolor": "white",
            "linecolor": "white",
            "ticks": ""
           }
          },
          "scene": {
           "xaxis": {
            "backgroundcolor": "#E5ECF6",
            "gridcolor": "white",
            "gridwidth": 2,
            "linecolor": "white",
            "showbackground": true,
            "ticks": "",
            "zerolinecolor": "white"
           },
           "yaxis": {
            "backgroundcolor": "#E5ECF6",
            "gridcolor": "white",
            "gridwidth": 2,
            "linecolor": "white",
            "showbackground": true,
            "ticks": "",
            "zerolinecolor": "white"
           },
           "zaxis": {
            "backgroundcolor": "#E5ECF6",
            "gridcolor": "white",
            "gridwidth": 2,
            "linecolor": "white",
            "showbackground": true,
            "ticks": "",
            "zerolinecolor": "white"
           }
          },
          "shapedefaults": {
           "line": {
            "color": "#2a3f5f"
           }
          },
          "ternary": {
           "aaxis": {
            "gridcolor": "white",
            "linecolor": "white",
            "ticks": ""
           },
           "baxis": {
            "gridcolor": "white",
            "linecolor": "white",
            "ticks": ""
           },
           "bgcolor": "#E5ECF6",
           "caxis": {
            "gridcolor": "white",
            "linecolor": "white",
            "ticks": ""
           }
          },
          "title": {
           "x": 0.05
          },
          "xaxis": {
           "automargin": true,
           "gridcolor": "white",
           "linecolor": "white",
           "ticks": "",
           "title": {
            "standoff": 15
           },
           "zerolinecolor": "white",
           "zerolinewidth": 2
          },
          "yaxis": {
           "automargin": true,
           "gridcolor": "white",
           "linecolor": "white",
           "ticks": "",
           "title": {
            "standoff": 15
           },
           "zerolinecolor": "white",
           "zerolinewidth": 2
          }
         }
        },
        "width": 720,
        "xaxis": {
         "gridcolor": "lightgrey",
         "linecolor": "black",
         "mirror": true,
         "showline": true,
         "ticks": "outside",
         "title": {
          "text": "Noise Rate"
         }
        },
        "yaxis": {
         "gridcolor": "lightgrey",
         "linecolor": "black",
         "mirror": true,
         "range": [
          0.15,
          1.35
         ],
         "showline": true,
         "ticks": "outside",
         "title": {
          "text": "Normalized Risk"
         }
        }
       }
      }
     },
     "metadata": {},
     "output_type": "display_data"
    }
   ],
   "source": [
    "dims = [128, 256]\n",
    "layers = [4, 4]\n",
    "heads = [1, 1]\n",
    "\n",
    "timesteps = [\"35000\", \"33500\"]\n",
    "\n",
    "curve_dirs = []\n",
    "names = []\n",
    "for index in range(len(dims)):\n",
    "    curve_dirs.append(f\"../models/variable_noise/250000_steps/bert_padded-sigma=0.2,0.8-mu=0-n_positions=1024-iters=250001-hid_dim={dims[index]}-layer={layers[index]}-head={heads[index]}-tokenizer=default-layer_norm=no_grad-loss=mean-prior=discrete-att_drop=0.0-hid_drop=0.0/test_curves_bert_padded-sigma=0.2,0.8-mu=0-n_positions=1024-iters=250001-hid_dim={dims[index]}-layer={layers[index]}-head={heads[index]}-tokenizer=default-layer_norm=no_grad-loss=mean-prior=discrete-att_drop=0.0-hid_drop=0.0.json\")\n",
    "    names.append(f\"{dims[index]}/{layers[index]}/{heads[index]}\")\n",
    "\n",
    "fig = plot_timestep_curve(curve_dirs, names, timesteps, scale=1.2, plot_oracle=False)\n",
    "fig.show()\n",
    "fig.write_image(\"training_steps_third_result_js.pdf\")\n",
    "fig.write_image(\"training_steps_third_result_js.pdf\")"
   ]
  },
  {
   "cell_type": "code",
   "execution_count": 366,
   "metadata": {},
   "outputs": [
    {
     "data": {
      "application/vnd.plotly.v1+json": {
       "config": {
        "plotlyServerURL": "https://plot.ly"
       },
       "data": [
        {
         "line": {
          "color": "#FD3216",
          "shape": "spline",
          "width": 1.7999999999999998
         },
         "marker": {
          "color": "rgba(255,0,0,0.0)",
          "line": {
           "color": "#FD3216",
           "width": 1.7999999999999998
          },
          "size": 12,
          "symbol": "circle"
         },
         "mode": "markers+lines",
         "name": "Bayes",
         "type": "scatter",
         "x": [
          0.05,
          0.1,
          0.15,
          0.2,
          0.25,
          0.3,
          0.35,
          0.4,
          0.45,
          0.5,
          0.55,
          0.6,
          0.65,
          0.7,
          0.75,
          0.8,
          0.85,
          0.9,
          0.95,
          1,
          1.05,
          1.1,
          1.15,
          1.2,
          1.25,
          1.3,
          1.35,
          1.4,
          1.45,
          1.5,
          1.55,
          1.6,
          1.65,
          1.7,
          1.75,
          1.8,
          1.85,
          1.9,
          1.95
         ],
         "y": [
          1.5156913995742798,
          1.072620153427124,
          0.9917163848876953,
          0.9583183526992798,
          0.9484015703201294,
          0.9403893351554871,
          0.9391770958900452,
          0.930298388004303,
          0.9353019595146179,
          0.9177632927894592,
          0.8835284113883972,
          0.8041284680366516,
          0.7339668273925781,
          0.6813217997550964,
          0.6380499005317688,
          0.6083240509033203,
          0.5821000933647156,
          0.5613171458244324,
          0.5449724197387695,
          0.5232571363449097,
          0.5104559063911438,
          0.49971041083335876,
          0.49058446288108826,
          0.4780445396900177,
          0.47028014063835144,
          0.4663653075695038,
          0.45612573623657227,
          0.44982948899269104,
          0.44437175989151,
          0.44303491711616516,
          0.4336240887641907,
          0.429482102394104,
          0.42496049404144287,
          0.42409035563468933,
          0.4192352294921875,
          0.41741618514060974,
          0.41522830724716187,
          0.41619637608528137,
          0.40068480372428894
         ]
        },
        {
         "line": {
          "color": "#479B55",
          "shape": "spline",
          "width": 1.7999999999999998
         },
         "marker": {
          "color": "rgba(0,255,0,0.0)",
          "line": {
           "color": "#479B55",
           "width": 1.7999999999999998
          },
          "size": 12,
          "symbol": "circle"
         },
         "mode": "markers+lines",
         "name": "James-Stein",
         "type": "scatter",
         "x": [
          0.05,
          0.1,
          0.15,
          0.2,
          0.25,
          0.3,
          0.35,
          0.4,
          0.45,
          0.5,
          0.55,
          0.6,
          0.65,
          0.7,
          0.75,
          0.8,
          0.85,
          0.9,
          0.95,
          1,
          1.05,
          1.1,
          1.15,
          1.2,
          1.25,
          1.3,
          1.35,
          1.4,
          1.45,
          1.5,
          1.55,
          1.6,
          1.65,
          1.7,
          1.75,
          1.8,
          1.85,
          1.9,
          1.95
         ],
         "y": [
          1.631117820739746,
          1.2048498392105103,
          1.057133674621582,
          1.0025091171264648,
          0.9696232676506042,
          0.9342513084411621,
          0.9036963582038879,
          0.8689670562744141,
          0.8410090208053589,
          0.8051197528839111,
          0.7724191546440125,
          0.7390750646591187,
          0.7053065299987793,
          0.6721143126487732,
          0.6375759243965149,
          0.6101875305175781,
          0.5818333625793457,
          0.5551696419715881,
          0.5309882760047913,
          0.4985998868942261,
          0.4769415855407715,
          0.45526111125946045,
          0.43235674500465393,
          0.4102689325809479,
          0.3928130269050598,
          0.3755076229572296,
          0.356486052274704,
          0.3387102782726288,
          0.3227007985115051,
          0.31017524003982544,
          0.293773889541626,
          0.2803286612033844,
          0.2675888240337372,
          0.25622984766960144,
          0.2453719526529312,
          0.23535677790641785,
          0.22470855712890625,
          0.2170981615781784,
          0.2093377262353897
         ]
        },
        {
         "line": {
          "color": "#6A76FC",
          "width": 2.4
         },
         "marker": {
          "color": "#6A76FC",
          "line": {
           "color": "black",
           "width": 1.2
          },
          "size": 4.8,
          "symbol": "circle"
         },
         "mode": "lines+markers",
         "name": "128/4/1",
         "type": "scatter",
         "x": [
          0.05,
          0.1,
          0.15,
          0.2,
          0.25,
          0.3,
          0.35,
          0.4,
          0.45,
          0.5,
          0.55,
          0.6,
          0.65,
          0.7,
          0.75,
          0.8,
          0.85,
          0.9,
          0.95,
          1,
          1.05,
          1.1,
          1.15,
          1.2,
          1.25,
          1.3,
          1.35,
          1.4,
          1.45,
          1.5,
          1.55,
          1.6,
          1.65,
          1.7,
          1.75,
          1.8,
          1.85,
          1.9,
          1.95
         ],
         "y": [
          1.2032463550567627,
          1.0226157903671265,
          0.9736804962158203,
          0.967143714427948,
          0.9584108591079712,
          0.9547477960586548,
          0.9474677443504333,
          0.9465374946594238,
          0.9423180222511292,
          0.9063647985458374,
          0.8651336431503296,
          0.7871502041816711,
          0.7257015109062195,
          0.6880624890327454,
          0.646113395690918,
          0.6120337247848511,
          0.580156147480011,
          0.5530040860176086,
          0.5276336073875427,
          0.5074493288993835,
          0.4885328710079193,
          0.47523021697998047,
          0.46369948983192444,
          0.45664265751838684,
          0.4451005458831787,
          0.43766945600509644,
          0.4300183653831482,
          0.42330703139305115,
          0.41878631711006165,
          0.4113788902759552,
          0.4083919823169708,
          0.40170419216156006,
          0.4034813642501831,
          0.3964722156524658,
          0.3915872275829315,
          0.38981887698173523,
          0.3853446841239929,
          0.3753824830055237,
          0.3798880875110626
         ]
        },
        {
         "line": {
          "color": "darkgrey",
          "width": 2.4
         },
         "marker": {
          "color": "darkgrey",
          "line": {
           "color": "black",
           "width": 1.2
          },
          "size": 4.8,
          "symbol": "circle"
         },
         "mode": "lines+markers",
         "name": "256/4/1",
         "type": "scatter",
         "x": [
          0.05,
          0.1,
          0.15,
          0.2,
          0.25,
          0.3,
          0.35,
          0.4,
          0.45,
          0.5,
          0.55,
          0.6,
          0.65,
          0.7,
          0.75,
          0.8,
          0.85,
          0.9,
          0.95,
          1,
          1.05,
          1.1,
          1.15,
          1.2,
          1.25,
          1.3,
          1.35,
          1.4,
          1.45,
          1.5,
          1.55,
          1.6,
          1.65,
          1.7,
          1.75,
          1.8,
          1.85,
          1.9,
          1.95
         ],
         "y": [
          1.5369850397109985,
          1.076914668083191,
          0.9964114427566528,
          0.969404399394989,
          0.942537784576416,
          0.939552903175354,
          0.9253221750259399,
          0.9234089851379395,
          0.907198429107666,
          0.882487952709198,
          0.8520079255104065,
          0.8021966814994812,
          0.7294285297393799,
          0.6801464557647705,
          0.6413806676864624,
          0.6127455830574036,
          0.5830274224281311,
          0.5575810074806213,
          0.5364553332328796,
          0.521103024482727,
          0.500835657119751,
          0.486762136220932,
          0.47358131408691406,
          0.46499356627464294,
          0.4517362713813782,
          0.4446837902069092,
          0.4359646737575531,
          0.43142905831336975,
          0.42355605959892273,
          0.41744762659072876,
          0.41124317049980164,
          0.4098326861858368,
          0.40350648760795593,
          0.39826637506484985,
          0.3920214772224426,
          0.3912389874458313,
          0.3890852630138397,
          0.38883039355278015,
          0.3836367428302765
         ]
        }
       ],
       "layout": {
        "font": {
         "size": 24
        },
        "height": 510,
        "legend": {
         "bordercolor": "Black",
         "borderwidth": 1,
         "x": 0.7,
         "y": 0.97
        },
        "margin": {
         "b": 0,
         "l": 0,
         "r": 10,
         "t": 10
        },
        "plot_bgcolor": "white",
        "template": {
         "data": {
          "bar": [
           {
            "error_x": {
             "color": "#2a3f5f"
            },
            "error_y": {
             "color": "#2a3f5f"
            },
            "marker": {
             "line": {
              "color": "#E5ECF6",
              "width": 0.5
             },
             "pattern": {
              "fillmode": "overlay",
              "size": 10,
              "solidity": 0.2
             }
            },
            "type": "bar"
           }
          ],
          "barpolar": [
           {
            "marker": {
             "line": {
              "color": "#E5ECF6",
              "width": 0.5
             },
             "pattern": {
              "fillmode": "overlay",
              "size": 10,
              "solidity": 0.2
             }
            },
            "type": "barpolar"
           }
          ],
          "carpet": [
           {
            "aaxis": {
             "endlinecolor": "#2a3f5f",
             "gridcolor": "white",
             "linecolor": "white",
             "minorgridcolor": "white",
             "startlinecolor": "#2a3f5f"
            },
            "baxis": {
             "endlinecolor": "#2a3f5f",
             "gridcolor": "white",
             "linecolor": "white",
             "minorgridcolor": "white",
             "startlinecolor": "#2a3f5f"
            },
            "type": "carpet"
           }
          ],
          "choropleth": [
           {
            "colorbar": {
             "outlinewidth": 0,
             "ticks": ""
            },
            "type": "choropleth"
           }
          ],
          "contour": [
           {
            "colorbar": {
             "outlinewidth": 0,
             "ticks": ""
            },
            "colorscale": [
             [
              0,
              "#0d0887"
             ],
             [
              0.1111111111111111,
              "#46039f"
             ],
             [
              0.2222222222222222,
              "#7201a8"
             ],
             [
              0.3333333333333333,
              "#9c179e"
             ],
             [
              0.4444444444444444,
              "#bd3786"
             ],
             [
              0.5555555555555556,
              "#d8576b"
             ],
             [
              0.6666666666666666,
              "#ed7953"
             ],
             [
              0.7777777777777778,
              "#fb9f3a"
             ],
             [
              0.8888888888888888,
              "#fdca26"
             ],
             [
              1,
              "#f0f921"
             ]
            ],
            "type": "contour"
           }
          ],
          "contourcarpet": [
           {
            "colorbar": {
             "outlinewidth": 0,
             "ticks": ""
            },
            "type": "contourcarpet"
           }
          ],
          "heatmap": [
           {
            "colorbar": {
             "outlinewidth": 0,
             "ticks": ""
            },
            "colorscale": [
             [
              0,
              "#0d0887"
             ],
             [
              0.1111111111111111,
              "#46039f"
             ],
             [
              0.2222222222222222,
              "#7201a8"
             ],
             [
              0.3333333333333333,
              "#9c179e"
             ],
             [
              0.4444444444444444,
              "#bd3786"
             ],
             [
              0.5555555555555556,
              "#d8576b"
             ],
             [
              0.6666666666666666,
              "#ed7953"
             ],
             [
              0.7777777777777778,
              "#fb9f3a"
             ],
             [
              0.8888888888888888,
              "#fdca26"
             ],
             [
              1,
              "#f0f921"
             ]
            ],
            "type": "heatmap"
           }
          ],
          "heatmapgl": [
           {
            "colorbar": {
             "outlinewidth": 0,
             "ticks": ""
            },
            "colorscale": [
             [
              0,
              "#0d0887"
             ],
             [
              0.1111111111111111,
              "#46039f"
             ],
             [
              0.2222222222222222,
              "#7201a8"
             ],
             [
              0.3333333333333333,
              "#9c179e"
             ],
             [
              0.4444444444444444,
              "#bd3786"
             ],
             [
              0.5555555555555556,
              "#d8576b"
             ],
             [
              0.6666666666666666,
              "#ed7953"
             ],
             [
              0.7777777777777778,
              "#fb9f3a"
             ],
             [
              0.8888888888888888,
              "#fdca26"
             ],
             [
              1,
              "#f0f921"
             ]
            ],
            "type": "heatmapgl"
           }
          ],
          "histogram": [
           {
            "marker": {
             "pattern": {
              "fillmode": "overlay",
              "size": 10,
              "solidity": 0.2
             }
            },
            "type": "histogram"
           }
          ],
          "histogram2d": [
           {
            "colorbar": {
             "outlinewidth": 0,
             "ticks": ""
            },
            "colorscale": [
             [
              0,
              "#0d0887"
             ],
             [
              0.1111111111111111,
              "#46039f"
             ],
             [
              0.2222222222222222,
              "#7201a8"
             ],
             [
              0.3333333333333333,
              "#9c179e"
             ],
             [
              0.4444444444444444,
              "#bd3786"
             ],
             [
              0.5555555555555556,
              "#d8576b"
             ],
             [
              0.6666666666666666,
              "#ed7953"
             ],
             [
              0.7777777777777778,
              "#fb9f3a"
             ],
             [
              0.8888888888888888,
              "#fdca26"
             ],
             [
              1,
              "#f0f921"
             ]
            ],
            "type": "histogram2d"
           }
          ],
          "histogram2dcontour": [
           {
            "colorbar": {
             "outlinewidth": 0,
             "ticks": ""
            },
            "colorscale": [
             [
              0,
              "#0d0887"
             ],
             [
              0.1111111111111111,
              "#46039f"
             ],
             [
              0.2222222222222222,
              "#7201a8"
             ],
             [
              0.3333333333333333,
              "#9c179e"
             ],
             [
              0.4444444444444444,
              "#bd3786"
             ],
             [
              0.5555555555555556,
              "#d8576b"
             ],
             [
              0.6666666666666666,
              "#ed7953"
             ],
             [
              0.7777777777777778,
              "#fb9f3a"
             ],
             [
              0.8888888888888888,
              "#fdca26"
             ],
             [
              1,
              "#f0f921"
             ]
            ],
            "type": "histogram2dcontour"
           }
          ],
          "mesh3d": [
           {
            "colorbar": {
             "outlinewidth": 0,
             "ticks": ""
            },
            "type": "mesh3d"
           }
          ],
          "parcoords": [
           {
            "line": {
             "colorbar": {
              "outlinewidth": 0,
              "ticks": ""
             }
            },
            "type": "parcoords"
           }
          ],
          "pie": [
           {
            "automargin": true,
            "type": "pie"
           }
          ],
          "scatter": [
           {
            "fillpattern": {
             "fillmode": "overlay",
             "size": 10,
             "solidity": 0.2
            },
            "type": "scatter"
           }
          ],
          "scatter3d": [
           {
            "line": {
             "colorbar": {
              "outlinewidth": 0,
              "ticks": ""
             }
            },
            "marker": {
             "colorbar": {
              "outlinewidth": 0,
              "ticks": ""
             }
            },
            "type": "scatter3d"
           }
          ],
          "scattercarpet": [
           {
            "marker": {
             "colorbar": {
              "outlinewidth": 0,
              "ticks": ""
             }
            },
            "type": "scattercarpet"
           }
          ],
          "scattergeo": [
           {
            "marker": {
             "colorbar": {
              "outlinewidth": 0,
              "ticks": ""
             }
            },
            "type": "scattergeo"
           }
          ],
          "scattergl": [
           {
            "marker": {
             "colorbar": {
              "outlinewidth": 0,
              "ticks": ""
             }
            },
            "type": "scattergl"
           }
          ],
          "scattermapbox": [
           {
            "marker": {
             "colorbar": {
              "outlinewidth": 0,
              "ticks": ""
             }
            },
            "type": "scattermapbox"
           }
          ],
          "scatterpolar": [
           {
            "marker": {
             "colorbar": {
              "outlinewidth": 0,
              "ticks": ""
             }
            },
            "type": "scatterpolar"
           }
          ],
          "scatterpolargl": [
           {
            "marker": {
             "colorbar": {
              "outlinewidth": 0,
              "ticks": ""
             }
            },
            "type": "scatterpolargl"
           }
          ],
          "scatterternary": [
           {
            "marker": {
             "colorbar": {
              "outlinewidth": 0,
              "ticks": ""
             }
            },
            "type": "scatterternary"
           }
          ],
          "surface": [
           {
            "colorbar": {
             "outlinewidth": 0,
             "ticks": ""
            },
            "colorscale": [
             [
              0,
              "#0d0887"
             ],
             [
              0.1111111111111111,
              "#46039f"
             ],
             [
              0.2222222222222222,
              "#7201a8"
             ],
             [
              0.3333333333333333,
              "#9c179e"
             ],
             [
              0.4444444444444444,
              "#bd3786"
             ],
             [
              0.5555555555555556,
              "#d8576b"
             ],
             [
              0.6666666666666666,
              "#ed7953"
             ],
             [
              0.7777777777777778,
              "#fb9f3a"
             ],
             [
              0.8888888888888888,
              "#fdca26"
             ],
             [
              1,
              "#f0f921"
             ]
            ],
            "type": "surface"
           }
          ],
          "table": [
           {
            "cells": {
             "fill": {
              "color": "#EBF0F8"
             },
             "line": {
              "color": "white"
             }
            },
            "header": {
             "fill": {
              "color": "#C8D4E3"
             },
             "line": {
              "color": "white"
             }
            },
            "type": "table"
           }
          ]
         },
         "layout": {
          "annotationdefaults": {
           "arrowcolor": "#2a3f5f",
           "arrowhead": 0,
           "arrowwidth": 1
          },
          "autotypenumbers": "strict",
          "coloraxis": {
           "colorbar": {
            "outlinewidth": 0,
            "ticks": ""
           }
          },
          "colorscale": {
           "diverging": [
            [
             0,
             "#8e0152"
            ],
            [
             0.1,
             "#c51b7d"
            ],
            [
             0.2,
             "#de77ae"
            ],
            [
             0.3,
             "#f1b6da"
            ],
            [
             0.4,
             "#fde0ef"
            ],
            [
             0.5,
             "#f7f7f7"
            ],
            [
             0.6,
             "#e6f5d0"
            ],
            [
             0.7,
             "#b8e186"
            ],
            [
             0.8,
             "#7fbc41"
            ],
            [
             0.9,
             "#4d9221"
            ],
            [
             1,
             "#276419"
            ]
           ],
           "sequential": [
            [
             0,
             "#0d0887"
            ],
            [
             0.1111111111111111,
             "#46039f"
            ],
            [
             0.2222222222222222,
             "#7201a8"
            ],
            [
             0.3333333333333333,
             "#9c179e"
            ],
            [
             0.4444444444444444,
             "#bd3786"
            ],
            [
             0.5555555555555556,
             "#d8576b"
            ],
            [
             0.6666666666666666,
             "#ed7953"
            ],
            [
             0.7777777777777778,
             "#fb9f3a"
            ],
            [
             0.8888888888888888,
             "#fdca26"
            ],
            [
             1,
             "#f0f921"
            ]
           ],
           "sequentialminus": [
            [
             0,
             "#0d0887"
            ],
            [
             0.1111111111111111,
             "#46039f"
            ],
            [
             0.2222222222222222,
             "#7201a8"
            ],
            [
             0.3333333333333333,
             "#9c179e"
            ],
            [
             0.4444444444444444,
             "#bd3786"
            ],
            [
             0.5555555555555556,
             "#d8576b"
            ],
            [
             0.6666666666666666,
             "#ed7953"
            ],
            [
             0.7777777777777778,
             "#fb9f3a"
            ],
            [
             0.8888888888888888,
             "#fdca26"
            ],
            [
             1,
             "#f0f921"
            ]
           ]
          },
          "colorway": [
           "#636efa",
           "#EF553B",
           "#00cc96",
           "#ab63fa",
           "#FFA15A",
           "#19d3f3",
           "#FF6692",
           "#B6E880",
           "#FF97FF",
           "#FECB52"
          ],
          "font": {
           "color": "#2a3f5f"
          },
          "geo": {
           "bgcolor": "white",
           "lakecolor": "white",
           "landcolor": "#E5ECF6",
           "showlakes": true,
           "showland": true,
           "subunitcolor": "white"
          },
          "hoverlabel": {
           "align": "left"
          },
          "hovermode": "closest",
          "mapbox": {
           "style": "light"
          },
          "paper_bgcolor": "white",
          "plot_bgcolor": "#E5ECF6",
          "polar": {
           "angularaxis": {
            "gridcolor": "white",
            "linecolor": "white",
            "ticks": ""
           },
           "bgcolor": "#E5ECF6",
           "radialaxis": {
            "gridcolor": "white",
            "linecolor": "white",
            "ticks": ""
           }
          },
          "scene": {
           "xaxis": {
            "backgroundcolor": "#E5ECF6",
            "gridcolor": "white",
            "gridwidth": 2,
            "linecolor": "white",
            "showbackground": true,
            "ticks": "",
            "zerolinecolor": "white"
           },
           "yaxis": {
            "backgroundcolor": "#E5ECF6",
            "gridcolor": "white",
            "gridwidth": 2,
            "linecolor": "white",
            "showbackground": true,
            "ticks": "",
            "zerolinecolor": "white"
           },
           "zaxis": {
            "backgroundcolor": "#E5ECF6",
            "gridcolor": "white",
            "gridwidth": 2,
            "linecolor": "white",
            "showbackground": true,
            "ticks": "",
            "zerolinecolor": "white"
           }
          },
          "shapedefaults": {
           "line": {
            "color": "#2a3f5f"
           }
          },
          "ternary": {
           "aaxis": {
            "gridcolor": "white",
            "linecolor": "white",
            "ticks": ""
           },
           "baxis": {
            "gridcolor": "white",
            "linecolor": "white",
            "ticks": ""
           },
           "bgcolor": "#E5ECF6",
           "caxis": {
            "gridcolor": "white",
            "linecolor": "white",
            "ticks": ""
           }
          },
          "title": {
           "x": 0.05
          },
          "xaxis": {
           "automargin": true,
           "gridcolor": "white",
           "linecolor": "white",
           "ticks": "",
           "title": {
            "standoff": 15
           },
           "zerolinecolor": "white",
           "zerolinewidth": 2
          },
          "yaxis": {
           "automargin": true,
           "gridcolor": "white",
           "linecolor": "white",
           "ticks": "",
           "title": {
            "standoff": 15
           },
           "zerolinecolor": "white",
           "zerolinewidth": 2
          }
         }
        },
        "width": 720,
        "xaxis": {
         "gridcolor": "lightgrey",
         "linecolor": "black",
         "mirror": true,
         "showline": true,
         "ticks": "outside",
         "title": {
          "text": "Noise Rate"
         }
        },
        "yaxis": {
         "gridcolor": "lightgrey",
         "linecolor": "black",
         "mirror": true,
         "range": [
          0.15,
          1.35
         ],
         "showline": true,
         "ticks": "outside",
         "title": {
          "text": "Normalized Risk"
         }
        }
       }
      }
     },
     "metadata": {},
     "output_type": "display_data"
    }
   ],
   "source": [
    "dims = [128, 256]\n",
    "layers = [4, 4]\n",
    "heads = [1, 1]\n",
    "\n",
    "timesteps = [\"91500\", \"53500\"]\n",
    "\n",
    "curve_dirs = []\n",
    "names = []\n",
    "for index in range(len(dims)):\n",
    "    curve_dirs.append(f\"../models/variable_noise/250000_steps/bert_padded-sigma=0.2,0.8-mu=0-n_positions=1024-iters=250001-hid_dim={dims[index]}-layer={layers[index]}-head={heads[index]}-tokenizer=default-layer_norm=no_grad-loss=mean-prior=discrete-att_drop=0.0-hid_drop=0.0/test_curves_bert_padded-sigma=0.2,0.8-mu=0-n_positions=1024-iters=250001-hid_dim={dims[index]}-layer={layers[index]}-head={heads[index]}-tokenizer=default-layer_norm=no_grad-loss=mean-prior=discrete-att_drop=0.0-hid_drop=0.0.json\")\n",
    "    names.append(f\"{dims[index]}/{layers[index]}/{heads[index]}\")\n",
    "\n",
    "fig = plot_timestep_curve(curve_dirs, names, timesteps, scale=1.2, plot_oracle=False)\n",
    "fig.show()\n",
    "fig.write_image(\"training_steps_third_result_bayes.pdf\")\n",
    "fig.write_image(\"training_steps_third_result_bayes.pdf\")"
   ]
  },
  {
   "cell_type": "code",
   "execution_count": 369,
   "metadata": {},
   "outputs": [
    {
     "data": {
      "application/vnd.plotly.v1+json": {
       "config": {
        "plotlyServerURL": "https://plot.ly"
       },
       "data": [
        {
         "line": {
          "color": "#FD3216",
          "shape": "spline",
          "width": 1.7999999999999998
         },
         "marker": {
          "color": "rgba(255,0,0,0.0)",
          "line": {
           "color": "#FD3216",
           "width": 1.7999999999999998
          },
          "size": 12,
          "symbol": "circle"
         },
         "mode": "markers+lines",
         "name": "Bayes",
         "type": "scatter",
         "x": [
          0.05,
          0.1,
          0.15,
          0.2,
          0.25,
          0.3,
          0.35,
          0.4,
          0.45,
          0.5,
          0.55,
          0.6,
          0.65,
          0.7,
          0.75,
          0.8,
          0.85,
          0.9,
          0.95,
          1,
          1.05,
          1.1,
          1.15,
          1.2,
          1.25,
          1.3,
          1.35,
          1.4,
          1.45,
          1.5,
          1.55,
          1.6,
          1.65,
          1.7,
          1.75,
          1.8,
          1.85,
          1.9,
          1.95
         ],
         "y": [
          1.5156913995742798,
          1.072620153427124,
          0.9917163848876953,
          0.9583183526992798,
          0.9484015703201294,
          0.9403893351554871,
          0.9391770958900452,
          0.930298388004303,
          0.9353019595146179,
          0.9177632927894592,
          0.8835284113883972,
          0.8041284680366516,
          0.7339668273925781,
          0.6813217997550964,
          0.6380499005317688,
          0.6083240509033203,
          0.5821000933647156,
          0.5613171458244324,
          0.5449724197387695,
          0.5232571363449097,
          0.5104559063911438,
          0.49971041083335876,
          0.49058446288108826,
          0.4780445396900177,
          0.47028014063835144,
          0.4663653075695038,
          0.45612573623657227,
          0.44982948899269104,
          0.44437175989151,
          0.44303491711616516,
          0.4336240887641907,
          0.429482102394104,
          0.42496049404144287,
          0.42409035563468933,
          0.4192352294921875,
          0.41741618514060974,
          0.41522830724716187,
          0.41619637608528137,
          0.40068480372428894
         ]
        },
        {
         "line": {
          "color": "#479B55",
          "shape": "spline",
          "width": 1.7999999999999998
         },
         "marker": {
          "color": "rgba(0,255,0,0.0)",
          "line": {
           "color": "#479B55",
           "width": 1.7999999999999998
          },
          "size": 12,
          "symbol": "circle"
         },
         "mode": "markers+lines",
         "name": "James-Stein",
         "type": "scatter",
         "x": [
          0.05,
          0.1,
          0.15,
          0.2,
          0.25,
          0.3,
          0.35,
          0.4,
          0.45,
          0.5,
          0.55,
          0.6,
          0.65,
          0.7,
          0.75,
          0.8,
          0.85,
          0.9,
          0.95,
          1,
          1.05,
          1.1,
          1.15,
          1.2,
          1.25,
          1.3,
          1.35,
          1.4,
          1.45,
          1.5,
          1.55,
          1.6,
          1.65,
          1.7,
          1.75,
          1.8,
          1.85,
          1.9,
          1.95
         ],
         "y": [
          1.631117820739746,
          1.2048498392105103,
          1.057133674621582,
          1.0025091171264648,
          0.9696232676506042,
          0.9342513084411621,
          0.9036963582038879,
          0.8689670562744141,
          0.8410090208053589,
          0.8051197528839111,
          0.7724191546440125,
          0.7390750646591187,
          0.7053065299987793,
          0.6721143126487732,
          0.6375759243965149,
          0.6101875305175781,
          0.5818333625793457,
          0.5551696419715881,
          0.5309882760047913,
          0.4985998868942261,
          0.4769415855407715,
          0.45526111125946045,
          0.43235674500465393,
          0.4102689325809479,
          0.3928130269050598,
          0.3755076229572296,
          0.356486052274704,
          0.3387102782726288,
          0.3227007985115051,
          0.31017524003982544,
          0.293773889541626,
          0.2803286612033844,
          0.2675888240337372,
          0.25622984766960144,
          0.2453719526529312,
          0.23535677790641785,
          0.22470855712890625,
          0.2170981615781784,
          0.2093377262353897
         ]
        },
        {
         "line": {
          "color": "#6A76FC",
          "width": 2.4
         },
         "marker": {
          "color": "#6A76FC",
          "line": {
           "color": "black",
           "width": 1.2
          },
          "size": 4.8,
          "symbol": "circle"
         },
         "mode": "lines+markers",
         "name": "128/4/1",
         "type": "scatter",
         "x": [
          0.05,
          0.1,
          0.15,
          0.2,
          0.25,
          0.3,
          0.35,
          0.4,
          0.45,
          0.5,
          0.55,
          0.6,
          0.65,
          0.7,
          0.75,
          0.8,
          0.85,
          0.9,
          0.95,
          1,
          1.05,
          1.1,
          1.15,
          1.2,
          1.25,
          1.3,
          1.35,
          1.4,
          1.45,
          1.5,
          1.55,
          1.6,
          1.65,
          1.7,
          1.75,
          1.8,
          1.85,
          1.9,
          1.95
         ],
         "y": [
          30.46979331970215,
          8.020646095275879,
          3.8562569618225098,
          2.4057562351226807,
          1.7207963466644287,
          1.3610012531280518,
          1.1440240144729614,
          1.001006007194519,
          0.9011986255645752,
          0.8323172330856323,
          0.7755448818206787,
          0.7365251183509827,
          0.7025257349014282,
          0.6831663846969604,
          0.6557453274726868,
          0.6446964144706726,
          0.6273406744003296,
          0.6180956959724426,
          0.6054943203926086,
          0.600379228591919,
          0.5949965715408325,
          0.5885469317436218,
          0.5831669569015503,
          0.5805567502975464,
          0.5743825435638428,
          0.5740202069282532,
          0.5690312385559082,
          0.5645280480384827,
          0.5610491037368774,
          0.5637778043746948,
          0.556133508682251,
          0.557504415512085,
          0.5540316700935364,
          0.5553553104400635,
          0.5512240529060364,
          0.5478673577308655,
          0.5503382086753845,
          0.550925612449646,
          0.5479997992515564
         ]
        },
        {
         "line": {
          "color": "darkgrey",
          "width": 2.4
         },
         "marker": {
          "color": "darkgrey",
          "line": {
           "color": "black",
           "width": 1.2
          },
          "size": 4.8,
          "symbol": "circle"
         },
         "mode": "lines+markers",
         "name": "256/4/1",
         "type": "scatter",
         "x": [
          0.05,
          0.1,
          0.15,
          0.2,
          0.25,
          0.3,
          0.35,
          0.4,
          0.45,
          0.5,
          0.55,
          0.6,
          0.65,
          0.7,
          0.75,
          0.8,
          0.85,
          0.9,
          0.95,
          1,
          1.05,
          1.1,
          1.15,
          1.2,
          1.25,
          1.3,
          1.35,
          1.4,
          1.45,
          1.5,
          1.55,
          1.6,
          1.65,
          1.7,
          1.75,
          1.8,
          1.85,
          1.9,
          1.95
         ],
         "y": [
          10.823200225830078,
          3.132369041442871,
          1.8281289339065552,
          1.3883460760116577,
          1.192046880722046,
          1.0596387386322021,
          1.0123604536056519,
          0.9577593207359314,
          0.8923913836479187,
          0.8434550166130066,
          0.8076349496841431,
          0.7649949193000793,
          0.7230282425880432,
          0.6882907748222351,
          0.6560850143432617,
          0.6229228973388672,
          0.5989655256271362,
          0.5776057839393616,
          0.5584338307380676,
          0.5389441251754761,
          0.5285549759864807,
          0.5112062096595764,
          0.5074912905693054,
          0.49589279294013977,
          0.481314480304718,
          0.4783075153827667,
          0.4723794758319855,
          0.467225581407547,
          0.4630996584892273,
          0.45824044942855835,
          0.45439088344573975,
          0.44892656803131104,
          0.44928357005119324,
          0.44962847232818604,
          0.44307300448417664,
          0.44103267788887024,
          0.43971869349479675,
          0.44035604596138,
          0.4344317317008972
         ]
        }
       ],
       "layout": {
        "font": {
         "size": 24
        },
        "height": 510,
        "legend": {
         "bordercolor": "Black",
         "borderwidth": 1,
         "x": 0.7,
         "y": 0.97
        },
        "margin": {
         "b": 0,
         "l": 0,
         "r": 10,
         "t": 10
        },
        "plot_bgcolor": "white",
        "template": {
         "data": {
          "bar": [
           {
            "error_x": {
             "color": "#2a3f5f"
            },
            "error_y": {
             "color": "#2a3f5f"
            },
            "marker": {
             "line": {
              "color": "#E5ECF6",
              "width": 0.5
             },
             "pattern": {
              "fillmode": "overlay",
              "size": 10,
              "solidity": 0.2
             }
            },
            "type": "bar"
           }
          ],
          "barpolar": [
           {
            "marker": {
             "line": {
              "color": "#E5ECF6",
              "width": 0.5
             },
             "pattern": {
              "fillmode": "overlay",
              "size": 10,
              "solidity": 0.2
             }
            },
            "type": "barpolar"
           }
          ],
          "carpet": [
           {
            "aaxis": {
             "endlinecolor": "#2a3f5f",
             "gridcolor": "white",
             "linecolor": "white",
             "minorgridcolor": "white",
             "startlinecolor": "#2a3f5f"
            },
            "baxis": {
             "endlinecolor": "#2a3f5f",
             "gridcolor": "white",
             "linecolor": "white",
             "minorgridcolor": "white",
             "startlinecolor": "#2a3f5f"
            },
            "type": "carpet"
           }
          ],
          "choropleth": [
           {
            "colorbar": {
             "outlinewidth": 0,
             "ticks": ""
            },
            "type": "choropleth"
           }
          ],
          "contour": [
           {
            "colorbar": {
             "outlinewidth": 0,
             "ticks": ""
            },
            "colorscale": [
             [
              0,
              "#0d0887"
             ],
             [
              0.1111111111111111,
              "#46039f"
             ],
             [
              0.2222222222222222,
              "#7201a8"
             ],
             [
              0.3333333333333333,
              "#9c179e"
             ],
             [
              0.4444444444444444,
              "#bd3786"
             ],
             [
              0.5555555555555556,
              "#d8576b"
             ],
             [
              0.6666666666666666,
              "#ed7953"
             ],
             [
              0.7777777777777778,
              "#fb9f3a"
             ],
             [
              0.8888888888888888,
              "#fdca26"
             ],
             [
              1,
              "#f0f921"
             ]
            ],
            "type": "contour"
           }
          ],
          "contourcarpet": [
           {
            "colorbar": {
             "outlinewidth": 0,
             "ticks": ""
            },
            "type": "contourcarpet"
           }
          ],
          "heatmap": [
           {
            "colorbar": {
             "outlinewidth": 0,
             "ticks": ""
            },
            "colorscale": [
             [
              0,
              "#0d0887"
             ],
             [
              0.1111111111111111,
              "#46039f"
             ],
             [
              0.2222222222222222,
              "#7201a8"
             ],
             [
              0.3333333333333333,
              "#9c179e"
             ],
             [
              0.4444444444444444,
              "#bd3786"
             ],
             [
              0.5555555555555556,
              "#d8576b"
             ],
             [
              0.6666666666666666,
              "#ed7953"
             ],
             [
              0.7777777777777778,
              "#fb9f3a"
             ],
             [
              0.8888888888888888,
              "#fdca26"
             ],
             [
              1,
              "#f0f921"
             ]
            ],
            "type": "heatmap"
           }
          ],
          "heatmapgl": [
           {
            "colorbar": {
             "outlinewidth": 0,
             "ticks": ""
            },
            "colorscale": [
             [
              0,
              "#0d0887"
             ],
             [
              0.1111111111111111,
              "#46039f"
             ],
             [
              0.2222222222222222,
              "#7201a8"
             ],
             [
              0.3333333333333333,
              "#9c179e"
             ],
             [
              0.4444444444444444,
              "#bd3786"
             ],
             [
              0.5555555555555556,
              "#d8576b"
             ],
             [
              0.6666666666666666,
              "#ed7953"
             ],
             [
              0.7777777777777778,
              "#fb9f3a"
             ],
             [
              0.8888888888888888,
              "#fdca26"
             ],
             [
              1,
              "#f0f921"
             ]
            ],
            "type": "heatmapgl"
           }
          ],
          "histogram": [
           {
            "marker": {
             "pattern": {
              "fillmode": "overlay",
              "size": 10,
              "solidity": 0.2
             }
            },
            "type": "histogram"
           }
          ],
          "histogram2d": [
           {
            "colorbar": {
             "outlinewidth": 0,
             "ticks": ""
            },
            "colorscale": [
             [
              0,
              "#0d0887"
             ],
             [
              0.1111111111111111,
              "#46039f"
             ],
             [
              0.2222222222222222,
              "#7201a8"
             ],
             [
              0.3333333333333333,
              "#9c179e"
             ],
             [
              0.4444444444444444,
              "#bd3786"
             ],
             [
              0.5555555555555556,
              "#d8576b"
             ],
             [
              0.6666666666666666,
              "#ed7953"
             ],
             [
              0.7777777777777778,
              "#fb9f3a"
             ],
             [
              0.8888888888888888,
              "#fdca26"
             ],
             [
              1,
              "#f0f921"
             ]
            ],
            "type": "histogram2d"
           }
          ],
          "histogram2dcontour": [
           {
            "colorbar": {
             "outlinewidth": 0,
             "ticks": ""
            },
            "colorscale": [
             [
              0,
              "#0d0887"
             ],
             [
              0.1111111111111111,
              "#46039f"
             ],
             [
              0.2222222222222222,
              "#7201a8"
             ],
             [
              0.3333333333333333,
              "#9c179e"
             ],
             [
              0.4444444444444444,
              "#bd3786"
             ],
             [
              0.5555555555555556,
              "#d8576b"
             ],
             [
              0.6666666666666666,
              "#ed7953"
             ],
             [
              0.7777777777777778,
              "#fb9f3a"
             ],
             [
              0.8888888888888888,
              "#fdca26"
             ],
             [
              1,
              "#f0f921"
             ]
            ],
            "type": "histogram2dcontour"
           }
          ],
          "mesh3d": [
           {
            "colorbar": {
             "outlinewidth": 0,
             "ticks": ""
            },
            "type": "mesh3d"
           }
          ],
          "parcoords": [
           {
            "line": {
             "colorbar": {
              "outlinewidth": 0,
              "ticks": ""
             }
            },
            "type": "parcoords"
           }
          ],
          "pie": [
           {
            "automargin": true,
            "type": "pie"
           }
          ],
          "scatter": [
           {
            "fillpattern": {
             "fillmode": "overlay",
             "size": 10,
             "solidity": 0.2
            },
            "type": "scatter"
           }
          ],
          "scatter3d": [
           {
            "line": {
             "colorbar": {
              "outlinewidth": 0,
              "ticks": ""
             }
            },
            "marker": {
             "colorbar": {
              "outlinewidth": 0,
              "ticks": ""
             }
            },
            "type": "scatter3d"
           }
          ],
          "scattercarpet": [
           {
            "marker": {
             "colorbar": {
              "outlinewidth": 0,
              "ticks": ""
             }
            },
            "type": "scattercarpet"
           }
          ],
          "scattergeo": [
           {
            "marker": {
             "colorbar": {
              "outlinewidth": 0,
              "ticks": ""
             }
            },
            "type": "scattergeo"
           }
          ],
          "scattergl": [
           {
            "marker": {
             "colorbar": {
              "outlinewidth": 0,
              "ticks": ""
             }
            },
            "type": "scattergl"
           }
          ],
          "scattermapbox": [
           {
            "marker": {
             "colorbar": {
              "outlinewidth": 0,
              "ticks": ""
             }
            },
            "type": "scattermapbox"
           }
          ],
          "scatterpolar": [
           {
            "marker": {
             "colorbar": {
              "outlinewidth": 0,
              "ticks": ""
             }
            },
            "type": "scatterpolar"
           }
          ],
          "scatterpolargl": [
           {
            "marker": {
             "colorbar": {
              "outlinewidth": 0,
              "ticks": ""
             }
            },
            "type": "scatterpolargl"
           }
          ],
          "scatterternary": [
           {
            "marker": {
             "colorbar": {
              "outlinewidth": 0,
              "ticks": ""
             }
            },
            "type": "scatterternary"
           }
          ],
          "surface": [
           {
            "colorbar": {
             "outlinewidth": 0,
             "ticks": ""
            },
            "colorscale": [
             [
              0,
              "#0d0887"
             ],
             [
              0.1111111111111111,
              "#46039f"
             ],
             [
              0.2222222222222222,
              "#7201a8"
             ],
             [
              0.3333333333333333,
              "#9c179e"
             ],
             [
              0.4444444444444444,
              "#bd3786"
             ],
             [
              0.5555555555555556,
              "#d8576b"
             ],
             [
              0.6666666666666666,
              "#ed7953"
             ],
             [
              0.7777777777777778,
              "#fb9f3a"
             ],
             [
              0.8888888888888888,
              "#fdca26"
             ],
             [
              1,
              "#f0f921"
             ]
            ],
            "type": "surface"
           }
          ],
          "table": [
           {
            "cells": {
             "fill": {
              "color": "#EBF0F8"
             },
             "line": {
              "color": "white"
             }
            },
            "header": {
             "fill": {
              "color": "#C8D4E3"
             },
             "line": {
              "color": "white"
             }
            },
            "type": "table"
           }
          ]
         },
         "layout": {
          "annotationdefaults": {
           "arrowcolor": "#2a3f5f",
           "arrowhead": 0,
           "arrowwidth": 1
          },
          "autotypenumbers": "strict",
          "coloraxis": {
           "colorbar": {
            "outlinewidth": 0,
            "ticks": ""
           }
          },
          "colorscale": {
           "diverging": [
            [
             0,
             "#8e0152"
            ],
            [
             0.1,
             "#c51b7d"
            ],
            [
             0.2,
             "#de77ae"
            ],
            [
             0.3,
             "#f1b6da"
            ],
            [
             0.4,
             "#fde0ef"
            ],
            [
             0.5,
             "#f7f7f7"
            ],
            [
             0.6,
             "#e6f5d0"
            ],
            [
             0.7,
             "#b8e186"
            ],
            [
             0.8,
             "#7fbc41"
            ],
            [
             0.9,
             "#4d9221"
            ],
            [
             1,
             "#276419"
            ]
           ],
           "sequential": [
            [
             0,
             "#0d0887"
            ],
            [
             0.1111111111111111,
             "#46039f"
            ],
            [
             0.2222222222222222,
             "#7201a8"
            ],
            [
             0.3333333333333333,
             "#9c179e"
            ],
            [
             0.4444444444444444,
             "#bd3786"
            ],
            [
             0.5555555555555556,
             "#d8576b"
            ],
            [
             0.6666666666666666,
             "#ed7953"
            ],
            [
             0.7777777777777778,
             "#fb9f3a"
            ],
            [
             0.8888888888888888,
             "#fdca26"
            ],
            [
             1,
             "#f0f921"
            ]
           ],
           "sequentialminus": [
            [
             0,
             "#0d0887"
            ],
            [
             0.1111111111111111,
             "#46039f"
            ],
            [
             0.2222222222222222,
             "#7201a8"
            ],
            [
             0.3333333333333333,
             "#9c179e"
            ],
            [
             0.4444444444444444,
             "#bd3786"
            ],
            [
             0.5555555555555556,
             "#d8576b"
            ],
            [
             0.6666666666666666,
             "#ed7953"
            ],
            [
             0.7777777777777778,
             "#fb9f3a"
            ],
            [
             0.8888888888888888,
             "#fdca26"
            ],
            [
             1,
             "#f0f921"
            ]
           ]
          },
          "colorway": [
           "#636efa",
           "#EF553B",
           "#00cc96",
           "#ab63fa",
           "#FFA15A",
           "#19d3f3",
           "#FF6692",
           "#B6E880",
           "#FF97FF",
           "#FECB52"
          ],
          "font": {
           "color": "#2a3f5f"
          },
          "geo": {
           "bgcolor": "white",
           "lakecolor": "white",
           "landcolor": "#E5ECF6",
           "showlakes": true,
           "showland": true,
           "subunitcolor": "white"
          },
          "hoverlabel": {
           "align": "left"
          },
          "hovermode": "closest",
          "mapbox": {
           "style": "light"
          },
          "paper_bgcolor": "white",
          "plot_bgcolor": "#E5ECF6",
          "polar": {
           "angularaxis": {
            "gridcolor": "white",
            "linecolor": "white",
            "ticks": ""
           },
           "bgcolor": "#E5ECF6",
           "radialaxis": {
            "gridcolor": "white",
            "linecolor": "white",
            "ticks": ""
           }
          },
          "scene": {
           "xaxis": {
            "backgroundcolor": "#E5ECF6",
            "gridcolor": "white",
            "gridwidth": 2,
            "linecolor": "white",
            "showbackground": true,
            "ticks": "",
            "zerolinecolor": "white"
           },
           "yaxis": {
            "backgroundcolor": "#E5ECF6",
            "gridcolor": "white",
            "gridwidth": 2,
            "linecolor": "white",
            "showbackground": true,
            "ticks": "",
            "zerolinecolor": "white"
           },
           "zaxis": {
            "backgroundcolor": "#E5ECF6",
            "gridcolor": "white",
            "gridwidth": 2,
            "linecolor": "white",
            "showbackground": true,
            "ticks": "",
            "zerolinecolor": "white"
           }
          },
          "shapedefaults": {
           "line": {
            "color": "#2a3f5f"
           }
          },
          "ternary": {
           "aaxis": {
            "gridcolor": "white",
            "linecolor": "white",
            "ticks": ""
           },
           "baxis": {
            "gridcolor": "white",
            "linecolor": "white",
            "ticks": ""
           },
           "bgcolor": "#E5ECF6",
           "caxis": {
            "gridcolor": "white",
            "linecolor": "white",
            "ticks": ""
           }
          },
          "title": {
           "x": 0.05
          },
          "xaxis": {
           "automargin": true,
           "gridcolor": "white",
           "linecolor": "white",
           "ticks": "",
           "title": {
            "standoff": 15
           },
           "zerolinecolor": "white",
           "zerolinewidth": 2
          },
          "yaxis": {
           "automargin": true,
           "gridcolor": "white",
           "linecolor": "white",
           "ticks": "",
           "title": {
            "standoff": 15
           },
           "zerolinecolor": "white",
           "zerolinewidth": 2
          }
         }
        },
        "width": 720,
        "xaxis": {
         "gridcolor": "lightgrey",
         "linecolor": "black",
         "mirror": true,
         "showline": true,
         "ticks": "outside",
         "title": {
          "text": "Noise Rate"
         }
        },
        "yaxis": {
         "gridcolor": "lightgrey",
         "linecolor": "black",
         "mirror": true,
         "range": [
          0.15,
          1.35
         ],
         "showline": true,
         "ticks": "outside",
         "title": {
          "text": "Normalized Risk"
         }
        }
       }
      }
     },
     "metadata": {},
     "output_type": "display_data"
    }
   ],
   "source": [
    "dims = [128, 256]\n",
    "layers = [4, 4]\n",
    "heads = [1, 1]\n",
    "\n",
    "timesteps = [\"213000\", \"250000\"]\n",
    "\n",
    "curve_dirs = []\n",
    "names = []\n",
    "for index in range(len(dims)):\n",
    "    curve_dirs.append(f\"../models/variable_noise/250000_steps/bert_padded-sigma=0.2,0.8-mu=0-n_positions=1024-iters=250001-hid_dim={dims[index]}-layer={layers[index]}-head={heads[index]}-tokenizer=default-layer_norm=no_grad-loss=mean-prior=discrete-att_drop=0.0-hid_drop=0.0/test_curves_bert_padded-sigma=0.2,0.8-mu=0-n_positions=1024-iters=250001-hid_dim={dims[index]}-layer={layers[index]}-head={heads[index]}-tokenizer=default-layer_norm=no_grad-loss=mean-prior=discrete-att_drop=0.0-hid_drop=0.0.json\")\n",
    "    names.append(f\"{dims[index]}/{layers[index]}/{heads[index]}\")\n",
    "\n",
    "fig = plot_timestep_curve(curve_dirs, names, timesteps, scale=1.2, plot_oracle=False)\n",
    "fig.show()\n",
    "fig.write_image(\"training_steps_third_result_final.pdf\")\n",
    "fig.write_image(\"training_steps_third_result_final.pdf\")"
   ]
  }
 ],
 "metadata": {
  "kernelspec": {
   "display_name": "Python 3",
   "language": "python",
   "name": "python3"
  },
  "language_info": {
   "codemirror_mode": {
    "name": "ipython",
    "version": 3
   },
   "file_extension": ".py",
   "mimetype": "text/x-python",
   "name": "python",
   "nbconvert_exporter": "python",
   "pygments_lexer": "ipython3",
   "version": "3.10.12"
  }
 },
 "nbformat": 4,
 "nbformat_minor": 2
}
